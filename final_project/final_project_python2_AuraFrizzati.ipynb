{
 "cells": [
  {
   "cell_type": "markdown",
   "metadata": {},
   "source": [
    "# **Final project** \n",
    "\n",
    "## (Python 2 Swansea course - Aura Frizzati)\n",
    "\n"
   ]
  },
  {
   "cell_type": "markdown",
   "metadata": {},
   "source": [
    "## **1. Introduction**\n",
    "- For this final project I am choosing the data mining/analytics path.\n",
    "- I will look at some open data downloaded from [StatsWales repository](https://statswales.gov.wales/catalogue)\n",
    "- Specifically, I will download monthly data about [**number of attendances in NHS Wales emergency departments by age band, sex and site**](https://statswales.gov.wales/Catalogue/Health-and-Social-Care/NHS-Hospital-Waiting-Times/emergency-department/emergencyattendances-by-age-sex-site)"
   ]
  },
  {
   "cell_type": "code",
   "execution_count": 27,
   "metadata": {},
   "outputs": [],
   "source": [
    "import warnings\n",
    "import pandas as pd\n",
    "import matplotlib.pyplot as plt\n",
    "import seaborn as sns\n",
    "import plotly.express as px\n",
    "\n",
    "## Ignore warning messages\n",
    "warnings.filterwarnings('ignore')"
   ]
  },
  {
   "cell_type": "markdown",
   "metadata": {},
   "source": [
    "## **2. Data Retrieval**"
   ]
  },
  {
   "cell_type": "markdown",
   "metadata": {},
   "source": [
    "The data could be downloaded as a `.csv` file from StatsWales, however I will make use of the library [**`statswalespy`**](https://pypi.org/project/statswalespy/), which connects directly to StatsWales' application programme interface (API). It allows to download data and directly store it as an object in python, without need to filter and download the data manually."
   ]
  },
  {
   "cell_type": "code",
   "execution_count": 11,
   "metadata": {},
   "outputs": [
    {
     "name": "stdout",
     "output_type": "stream",
     "text": [
      "Data extracted with 95597 rows, and 23 columns.\n"
     ]
    }
   ],
   "source": [
    "from statswalespy.download_data import statswales_get_dataset\n",
    "\n",
    "#ED_wales_raw_data = statswales_get_dataset(\"HLTH0037\")\n",
    "## data gets saves as a pandas dataframe"
   ]
  },
  {
   "cell_type": "code",
   "execution_count": 20,
   "metadata": {},
   "outputs": [],
   "source": [
    "## save data as a csv file\n",
    "#ED_wales_raw_data.to_csv('/Users/aurafrizzati/Desktop/python2-swansea-course/final_project/raw_data/ED_wales_raw_data.csv', index=False)"
   ]
  },
  {
   "cell_type": "code",
   "execution_count": 4,
   "metadata": {},
   "outputs": [],
   "source": [
    "## re-import data as CSV file\n",
    "ED_wales_raw_data = pd.read_csv('/Users/aurafrizzati/Desktop/python2-swansea-course/final_project/raw_data/ED_wales_raw_data.csv')"
   ]
  },
  {
   "cell_type": "markdown",
   "metadata": {},
   "source": [
    "## **3. Data Exploration: cleaning and visualisation**"
   ]
  },
  {
   "cell_type": "code",
   "execution_count": 5,
   "metadata": {},
   "outputs": [
    {
     "data": {
      "text/plain": [
       "(95597, 23)"
      ]
     },
     "execution_count": 5,
     "metadata": {},
     "output_type": "execute_result"
    }
   ],
   "source": [
    "ED_wales_raw_data.shape"
   ]
  },
  {
   "cell_type": "markdown",
   "metadata": {},
   "source": [
    "- The dataset contains 95,597 records and 23 columns.\n",
    "\n",
    "- The following is the extract of the first 5 records:"
   ]
  },
  {
   "cell_type": "code",
   "execution_count": 6,
   "metadata": {},
   "outputs": [
    {
     "data": {
      "text/html": [
       "<div>\n",
       "<style scoped>\n",
       "    .dataframe tbody tr th:only-of-type {\n",
       "        vertical-align: middle;\n",
       "    }\n",
       "\n",
       "    .dataframe tbody tr th {\n",
       "        vertical-align: top;\n",
       "    }\n",
       "\n",
       "    .dataframe thead th {\n",
       "        text-align: right;\n",
       "    }\n",
       "</style>\n",
       "<table border=\"1\" class=\"dataframe\">\n",
       "  <thead>\n",
       "    <tr style=\"text-align: right;\">\n",
       "      <th></th>\n",
       "      <th>Data</th>\n",
       "      <th>Age_Code</th>\n",
       "      <th>Age_ItemName_ENG</th>\n",
       "      <th>Age_SortOrder</th>\n",
       "      <th>Age_Hierarchy</th>\n",
       "      <th>Age_ItemNotes_ENG</th>\n",
       "      <th>Date_Code</th>\n",
       "      <th>Date_ItemName_ENG</th>\n",
       "      <th>Date_SortOrder</th>\n",
       "      <th>Date_ItemNotes_ENG</th>\n",
       "      <th>...</th>\n",
       "      <th>Sex_Hierarchy</th>\n",
       "      <th>Sex_ItemNotes_ENG</th>\n",
       "      <th>Hospital_Code</th>\n",
       "      <th>Hospital_ItemName_ENG</th>\n",
       "      <th>Hospital_SortOrder</th>\n",
       "      <th>Hospital_Hierarchy</th>\n",
       "      <th>Hospital_ItemNotes_ENG</th>\n",
       "      <th>Hospital_AltCode1</th>\n",
       "      <th>RowKey</th>\n",
       "      <th>PartitionKey</th>\n",
       "    </tr>\n",
       "  </thead>\n",
       "  <tbody>\n",
       "    <tr>\n",
       "      <th>0</th>\n",
       "      <td>1.0</td>\n",
       "      <td>0-4</td>\n",
       "      <td>0-4</td>\n",
       "      <td>2.0</td>\n",
       "      <td>All</td>\n",
       "      <td>NaN</td>\n",
       "      <td>2016m04</td>\n",
       "      <td>April 2016</td>\n",
       "      <td>119</td>\n",
       "      <td>NaN</td>\n",
       "      <td>...</td>\n",
       "      <td>99</td>\n",
       "      <td>NaN</td>\n",
       "      <td>7A47A4BV</td>\n",
       "      <td>University Hospital Of Wales</td>\n",
       "      <td>28.0</td>\n",
       "      <td>W11000029</td>\n",
       "      <td>NaN</td>\n",
       "      <td>7A4BV</td>\n",
       "      <td>0</td>\n",
       "      <td>NaN</td>\n",
       "    </tr>\n",
       "    <tr>\n",
       "      <th>1</th>\n",
       "      <td>1.0</td>\n",
       "      <td>55-59</td>\n",
       "      <td>55-59</td>\n",
       "      <td>11.0</td>\n",
       "      <td>All</td>\n",
       "      <td>NaN</td>\n",
       "      <td>2016m04</td>\n",
       "      <td>April 2016</td>\n",
       "      <td>119</td>\n",
       "      <td>NaN</td>\n",
       "      <td>...</td>\n",
       "      <td>99</td>\n",
       "      <td>NaN</td>\n",
       "      <td>7A67A6AV</td>\n",
       "      <td>Ysbyty Ystrad Fawr</td>\n",
       "      <td>43.0</td>\n",
       "      <td>W11000028</td>\n",
       "      <td>NaN</td>\n",
       "      <td>7A6AV</td>\n",
       "      <td>1</td>\n",
       "      <td>NaN</td>\n",
       "    </tr>\n",
       "    <tr>\n",
       "      <th>2</th>\n",
       "      <td>1.0</td>\n",
       "      <td>60-64</td>\n",
       "      <td>60-64</td>\n",
       "      <td>12.0</td>\n",
       "      <td>All</td>\n",
       "      <td>NaN</td>\n",
       "      <td>2016m04</td>\n",
       "      <td>April 2016</td>\n",
       "      <td>119</td>\n",
       "      <td>NaN</td>\n",
       "      <td>...</td>\n",
       "      <td>99</td>\n",
       "      <td>NaN</td>\n",
       "      <td>7A3x7A3C4</td>\n",
       "      <td>Singleton Hospital</td>\n",
       "      <td>25.0</td>\n",
       "      <td>W11000026</td>\n",
       "      <td>NaN</td>\n",
       "      <td>7A3C4</td>\n",
       "      <td>2</td>\n",
       "      <td>NaN</td>\n",
       "    </tr>\n",
       "    <tr>\n",
       "      <th>3</th>\n",
       "      <td>1.0</td>\n",
       "      <td>55-59</td>\n",
       "      <td>55-59</td>\n",
       "      <td>11.0</td>\n",
       "      <td>All</td>\n",
       "      <td>NaN</td>\n",
       "      <td>2016m04</td>\n",
       "      <td>April 2016</td>\n",
       "      <td>119</td>\n",
       "      <td>NaN</td>\n",
       "      <td>...</td>\n",
       "      <td>99</td>\n",
       "      <td>NaN</td>\n",
       "      <td>7A67A6AM</td>\n",
       "      <td>Nevill Hall Hospital</td>\n",
       "      <td>40.0</td>\n",
       "      <td>W11000028</td>\n",
       "      <td>This hospital has been re-classified following...</td>\n",
       "      <td>7A6AM</td>\n",
       "      <td>3</td>\n",
       "      <td>NaN</td>\n",
       "    </tr>\n",
       "    <tr>\n",
       "      <th>4</th>\n",
       "      <td>2.0</td>\n",
       "      <td>55-59</td>\n",
       "      <td>55-59</td>\n",
       "      <td>11.0</td>\n",
       "      <td>All</td>\n",
       "      <td>NaN</td>\n",
       "      <td>2016m04</td>\n",
       "      <td>April 2016</td>\n",
       "      <td>119</td>\n",
       "      <td>NaN</td>\n",
       "      <td>...</td>\n",
       "      <td>99</td>\n",
       "      <td>NaN</td>\n",
       "      <td>7A67A6AU</td>\n",
       "      <td>Ysbyty Aneurin Bevan</td>\n",
       "      <td>42.0</td>\n",
       "      <td>W11000028</td>\n",
       "      <td>NaN</td>\n",
       "      <td>7A6AU</td>\n",
       "      <td>4</td>\n",
       "      <td>NaN</td>\n",
       "    </tr>\n",
       "  </tbody>\n",
       "</table>\n",
       "<p>5 rows × 23 columns</p>\n",
       "</div>"
      ],
      "text/plain": [
       "   Data Age_Code Age_ItemName_ENG  Age_SortOrder Age_Hierarchy  \\\n",
       "0   1.0      0-4              0-4            2.0           All   \n",
       "1   1.0    55-59            55-59           11.0           All   \n",
       "2   1.0    60-64            60-64           12.0           All   \n",
       "3   1.0    55-59            55-59           11.0           All   \n",
       "4   2.0    55-59            55-59           11.0           All   \n",
       "\n",
       "   Age_ItemNotes_ENG Date_Code Date_ItemName_ENG  Date_SortOrder  \\\n",
       "0                NaN   2016m04        April 2016             119   \n",
       "1                NaN   2016m04        April 2016             119   \n",
       "2                NaN   2016m04        April 2016             119   \n",
       "3                NaN   2016m04        April 2016             119   \n",
       "4                NaN   2016m04        April 2016             119   \n",
       "\n",
       "   Date_ItemNotes_ENG  ...  Sex_Hierarchy Sex_ItemNotes_ENG  Hospital_Code  \\\n",
       "0                 NaN  ...             99               NaN       7A47A4BV   \n",
       "1                 NaN  ...             99               NaN       7A67A6AV   \n",
       "2                 NaN  ...             99               NaN      7A3x7A3C4   \n",
       "3                 NaN  ...             99               NaN       7A67A6AM   \n",
       "4                 NaN  ...             99               NaN       7A67A6AU   \n",
       "\n",
       "          Hospital_ItemName_ENG  Hospital_SortOrder Hospital_Hierarchy  \\\n",
       "0  University Hospital Of Wales                28.0          W11000029   \n",
       "1            Ysbyty Ystrad Fawr                43.0          W11000028   \n",
       "2            Singleton Hospital                25.0          W11000026   \n",
       "3          Nevill Hall Hospital                40.0          W11000028   \n",
       "4          Ysbyty Aneurin Bevan                42.0          W11000028   \n",
       "\n",
       "                              Hospital_ItemNotes_ENG  Hospital_AltCode1  \\\n",
       "0                                                NaN              7A4BV   \n",
       "1                                                NaN              7A6AV   \n",
       "2                                                NaN              7A3C4   \n",
       "3  This hospital has been re-classified following...              7A6AM   \n",
       "4                                                NaN              7A6AU   \n",
       "\n",
       "  RowKey PartitionKey  \n",
       "0      0          NaN  \n",
       "1      1          NaN  \n",
       "2      2          NaN  \n",
       "3      3          NaN  \n",
       "4      4          NaN  \n",
       "\n",
       "[5 rows x 23 columns]"
      ]
     },
     "execution_count": 6,
     "metadata": {},
     "output_type": "execute_result"
    }
   ],
   "source": [
    "ED_wales_raw_data.head()"
   ]
  },
  {
   "cell_type": "markdown",
   "metadata": {},
   "source": [
    "- All columns are coded as `Dtype` = `object` except for columns `Data` (which contains the number of emergency attendances), `Age_SortOrder` and `Hospital_SortOrder`, which are instead `float64`.\n",
    "- Three columns (`Age_ItemNotes_ENG`, Date`_`ItemNotes_ENG, `Sex_ItemNotes_ENG` and `PartitionKey`) do not contain any data, while column `Hospital_ItemNotes_ENG` contains only 16,683 records"
   ]
  },
  {
   "cell_type": "code",
   "execution_count": 5,
   "metadata": {},
   "outputs": [
    {
     "name": "stdout",
     "output_type": "stream",
     "text": [
      "<class 'pandas.core.frame.DataFrame'>\n",
      "RangeIndex: 95597 entries, 0 to 95596\n",
      "Data columns (total 23 columns):\n",
      " #   Column                  Non-Null Count  Dtype  \n",
      "---  ------                  --------------  -----  \n",
      " 0   Data                    95597 non-null  float64\n",
      " 1   Age_Code                95597 non-null  object \n",
      " 2   Age_ItemName_ENG        95597 non-null  object \n",
      " 3   Age_SortOrder           95597 non-null  float64\n",
      " 4   Age_Hierarchy           95597 non-null  object \n",
      " 5   Age_ItemNotes_ENG       0 non-null      float64\n",
      " 6   Date_Code               95597 non-null  object \n",
      " 7   Date_ItemName_ENG       95597 non-null  object \n",
      " 8   Date_SortOrder          95597 non-null  int64  \n",
      " 9   Date_ItemNotes_ENG      0 non-null      float64\n",
      " 10  Sex_Code                95597 non-null  int64  \n",
      " 11  Sex_ItemName_ENG        95597 non-null  object \n",
      " 12  Sex_SortOrder           95597 non-null  int64  \n",
      " 13  Sex_Hierarchy           95597 non-null  int64  \n",
      " 14  Sex_ItemNotes_ENG       0 non-null      float64\n",
      " 15  Hospital_Code           95597 non-null  object \n",
      " 16  Hospital_ItemName_ENG   95597 non-null  object \n",
      " 17  Hospital_SortOrder      95597 non-null  float64\n",
      " 18  Hospital_Hierarchy      95597 non-null  object \n",
      " 19  Hospital_ItemNotes_ENG  16683 non-null  object \n",
      " 20  Hospital_AltCode1       95597 non-null  object \n",
      " 21  RowKey                  95597 non-null  int64  \n",
      " 22  PartitionKey            0 non-null      float64\n",
      "dtypes: float64(7), int64(5), object(11)\n",
      "memory usage: 16.8+ MB\n"
     ]
    }
   ],
   "source": [
    "ED_wales_raw_data.info()"
   ]
  },
  {
   "cell_type": "markdown",
   "metadata": {},
   "source": [
    "- I then check the unique values within each column of the dataset (excluding the first row `Data`, which contains the number of monthly emergency attendances):"
   ]
  },
  {
   "cell_type": "code",
   "execution_count": 7,
   "metadata": {},
   "outputs": [
    {
     "data": {
      "text/plain": [
       "{'Age_Code': array(['0-4', '55-59', '60-64', '45-49', '30-34', '85', '18-24', '25-29',\n",
       "        '40-44', '50-54', '5-17', '35-39', '70-74', '75-79', '80-84',\n",
       "        'Unknown', '65-69'], dtype=object),\n",
       " 'Age_ItemName_ENG': array(['0-4', '55-59', '60-64', '45-49', '30-34', '85 and over', '18-24',\n",
       "        '25-29', '40-44', '50-54', '5-17', '35-39', '70-74', '75-79',\n",
       "        '80-84', 'Unknown', '65-69'], dtype=object),\n",
       " 'Age_SortOrder': array([ 2., 11., 12.,  9.,  6., 17.,  4.,  5.,  8., 10.,  3.,  7., 14.,\n",
       "        15., 16., 18., 13.]),\n",
       " 'Age_Hierarchy': array(['All'], dtype=object),\n",
       " 'Age_ItemNotes_ENG': array([nan]),\n",
       " 'Date_Code': array(['2016m04', '2016m05', '2016m06', '2016m07', '2016m08', '2016m09',\n",
       "        '2016m10', '2016m11', '2016m12', '2017m01', '2017m02', '2017m03',\n",
       "        '2017m04', '2017m05', '2017m06', '2017m07', '2017m08', '2017m09',\n",
       "        '2017m10', '2017m11', '2017m12', '2018m01', '2018m02', '2018m03',\n",
       "        '2018m04', '2018m05', '2018m06', '2018m07', '2018m08', '2018m09',\n",
       "        '2018m10', '2018m11', '2018m12', '2019m01', '2019m02', '2019m03',\n",
       "        '2019m04', '2019m05', '2019m06', '2019m07', '2019m08', '2019m09',\n",
       "        '2019m10', '2019m11', '2019m12', '2020m01', '2020m02', '2020m03',\n",
       "        '2020m06', '2020m07', '2020m08', '2020m09', '2020m10', '2020m11',\n",
       "        '2020m12', '2021m01', '2021m02', '2021m03', '2021m04', '2021m05',\n",
       "        '2021m06', '2021m07', '2021m08', '2021m09', '2021m10', '2021m11',\n",
       "        '2021m12', '2022m01', '2022m02', '2022m03', '2022m04', '2022m05',\n",
       "        '2022m06', '2022m07', '2022m08', '2022m09', '2022m10', '2022m11',\n",
       "        '2022m12', '2023m01', '2023m02', '2023m03', '2023m04', '2023m05',\n",
       "        '2020m04', '2020m05', '2023m06', '2023m07', '2023m08', '2023m09',\n",
       "        '2023m10', '2023m11'], dtype=object),\n",
       " 'Date_ItemName_ENG': array(['April 2016', 'May 2016', 'June 2016', 'July 2016', 'August 2016',\n",
       "        'September 2016', 'October 2016', 'November 2016', 'December 2016',\n",
       "        'January 2017', 'February 2017', 'March 2017', 'April 2017',\n",
       "        'May 2017', 'June 2017', 'July 2017', 'August 2017',\n",
       "        'September 2017', 'October 2017', 'November 2017', 'December 2017',\n",
       "        'January 2018', 'February 2018', 'March 2018', 'April 2018',\n",
       "        'May 2018', 'June 2018', 'July 2018', 'August 2018',\n",
       "        'September 2018', 'October 2018', 'November 2018', 'December 2018',\n",
       "        'January 2019', 'February 2019', 'March 2019', 'April 2019',\n",
       "        'May 2019', 'June 2019', 'July 2019', 'August 2019',\n",
       "        'September 2019', 'October 2019', 'November 2019', 'December 2019',\n",
       "        'January 2020', 'February 2020', 'March 2020', 'June 2020',\n",
       "        'July 2020', 'August 2020', 'September 2020', 'October 2020',\n",
       "        'November 2020', 'December 2020', 'January 2021', 'February 2021',\n",
       "        'March 2021', 'April 2021', 'May 2021', 'June 2021', 'July 2021',\n",
       "        'August 2021', 'September 2021', 'October 2021', 'November 2021',\n",
       "        'December 2021', 'January 2022', 'February 2022', 'March 2022',\n",
       "        'April 2022', 'May 2022', 'June 2022', 'July 2022', 'August 2022',\n",
       "        'September 2022', 'October 2022', 'November 2022', 'December 2022',\n",
       "        'January 2023', 'February 2023', 'March 2023', 'April 2023',\n",
       "        'May 2023', 'April 2020', 'May 2020', 'June 2023', 'July 2023',\n",
       "        'August 2023', 'September 2023', 'October 2023', 'November 2023'],\n",
       "       dtype=object),\n",
       " 'Date_SortOrder': array([119, 120, 121, 122, 123, 124, 125, 126, 127, 128, 129, 130, 131,\n",
       "        132, 133, 134, 135, 136, 137, 138, 139, 140, 141, 142, 143, 144,\n",
       "        145, 146, 147, 148, 149, 150, 151, 152, 153, 154, 155, 156, 157,\n",
       "        158, 159, 160, 162, 163, 164, 165, 166, 168, 171, 172, 173, 174,\n",
       "        175, 176, 180, 181, 182, 183, 184, 185, 186, 187, 188, 189, 190,\n",
       "        191, 192, 193, 194, 195, 196, 197, 198, 199, 200, 201, 202, 203,\n",
       "        204, 205, 206, 207, 208, 209, 169, 170, 210, 211, 212, 213, 214,\n",
       "        215]),\n",
       " 'Date_ItemNotes_ENG': array([nan]),\n",
       " 'Sex_Code': array([9, 1, 2]),\n",
       " 'Sex_ItemName_ENG': array(['Not Specified  or invalid', 'Male', 'Female'], dtype=object),\n",
       " 'Sex_SortOrder': array([4, 2, 3]),\n",
       " 'Sex_Hierarchy': array([99]),\n",
       " 'Sex_ItemNotes_ENG': array([nan]),\n",
       " 'Hospital_Code': array(['7A47A4BV', '7A67A6AV', '7A3x7A3C4', '7A67A6AM', '7A67A6AU',\n",
       "        '7A5x7A5B1', '7A47A4CH', '7A27A2AL', '7A27A2JA', '7A3x7A3CJ',\n",
       "        '7A3x7A3C7', '7A77A7EJ', '7A77A7BS', '7A3x7A3B7', '7A27A2AJ',\n",
       "        '7A27A2BL', '7A27A2AH', '7A5x7A5CA', '7A17A1DC', '7A17A1CA',\n",
       "        '7A27A2AG', '7A17A1A4', '7A17A1AU', '7A17A1B2', '7A17A1AY',\n",
       "        '7A17A1A1', '7A17A1AV', '7A17A1AX', '7A67A6AR', '7A5x7A5HA',\n",
       "        '7A5x7A5B3', '7A77A7BT', '7A77A7BN', '7A27A2AK', '7A57A5B1',\n",
       "        '7A57A5B3', '7A57A5CA', '7A57A5HA', '7A37A3CJ', '7A37A3C7',\n",
       "        '7A57A3B7', '7A27A2L7', '7A67A6G9', '7A17A1AD', '7A17A1AB',\n",
       "        '7A17A1A9'], dtype=object),\n",
       " 'Hospital_ItemName_ENG': array(['University Hospital Of Wales', 'Ysbyty Ystrad Fawr',\n",
       "        'Singleton Hospital', 'Nevill Hall Hospital',\n",
       "        'Ysbyty Aneurin Bevan', 'The Royal Glamorgan Hospital',\n",
       "        'The Barry Hospital', 'Prince Philip Hospital',\n",
       "        'New Tenby Cottage Hospital Outpatients',\n",
       "        'Neath Port Talbot Hospital', 'Morriston Hospital',\n",
       "        'Ystradgynlais Community Hospital', 'Victoria Memorial Hospital',\n",
       "        'Princess Of Wales Hospital', 'Bronglais General Hospital',\n",
       "        'Withybush General Hospital', 'Llandovery Hospital',\n",
       "        'Ysbyty Cwm Rhondda', 'Ysbyty Penrhos Stanley', 'Ysbyty Alltwen',\n",
       "        'Glangwili General Hospital', 'Wrexham Maelor Hospital',\n",
       "        'Ysbyty Gwynedd', 'Tywyn & District War Memorial Hospital',\n",
       "        'Dolgellau And Barmouth District Hospital', 'Ysbyty Glan Clwyd',\n",
       "        'Llandudno General Hospital', 'Bryn Beryl Hospital',\n",
       "        'Royal Gwent Hospital', 'Ysbyty Cwm Cynon',\n",
       "        'Prince Charles Hospital', 'Breconshire War Memorial Hospital',\n",
       "        'Llandrindod Wells Hospital',\n",
       "        'Cardigan And District Memorial Hospital',\n",
       "        'Cardigan Integrated Care Centre', 'The Grange Hospital',\n",
       "        'Mold Community Hospital', 'Holywell Community Hospital',\n",
       "        'Denbigh Community Hospital'], dtype=object),\n",
       " 'Hospital_SortOrder': array([ 28.,  43.,  25.,  40.,  42.,  35.,  29.,  16.,  19.,  27.,  26.,\n",
       "         47.,  45.,  24.,  14.,  17.,  13.,  38.,  11.,  10.,  12.,   2.,\n",
       "          4.,   9.,   7.,   1.,   5.,   6.,  41.,  39.,  36.,  46.,  44.,\n",
       "         15.,  31.,  32.,  33.,  34.,  22.,  21.,  30.,  20.,  48., 110.,\n",
       "          0.]),\n",
       " 'Hospital_Hierarchy': array(['W11000029', 'W11000028', 'W11000026', 'W11000027', 'W11000025',\n",
       "        'W11000024', 'W11000023', 'W11000030', 'W11000031'], dtype=object),\n",
       " 'Hospital_ItemNotes_ENG': array([nan,\n",
       "        'This hospital has been re-classified following the opening of the Grange University hospital on 17 November and will appear under the category of \\x93other emergency departments/minor injury units - defined as all other emergency department/casualty/minor injury units which have designated accommodation for the reception of accident and emergency patients and can be routinely accessed without appointment, but which do not meet the criteria for a major emergency department.\\x94',\n",
       "        '(closed in March 2020; reopened in August 2020)',\n",
       "        '(closed in April 2020; remains closed)',\n",
       "        '(closed in June 2020; remains closed)',\n",
       "        '(closed in May 2020; reopened in August 2020)',\n",
       "        'This major emergency department opened on 17 November 2020. &#10;The Grange University Hospital will contain a host of specialist services in one place, including a 24 hour emergency department and assessment unit for major emergencies and resuscitations which could require onward intensive care.'],\n",
       "       dtype=object),\n",
       " 'Hospital_AltCode1': array(['7A4BV', '7A6AV', '7A3C4', '7A6AM', '7A6AU', '7A5B1', '7A4CH',\n",
       "        '7A2AL', '7A2JA', '7A3CJ', '7A3C7', '7A7EJ', '7A7BS', '7A3B7',\n",
       "        '7A2AJ', '7A2BL', '7A2AH', '7A5CA', '7A1DC', '7A1CA', '7A2AG',\n",
       "        '7A1A4', '7A1AU', '7A1B2', '7A1AY', '7A1A1', '7A1AV', '7A1AX',\n",
       "        '7A6AR', '7A5HA', '7A5B3', '7A7BT', '7A7BN', '7A2AK', '7A2L7',\n",
       "        '7A6G9', '7A1AD', '7A1AB', '7A1A9'], dtype=object),\n",
       " 'RowKey': array([    0,     1,     2, ..., 95594, 95595, 95596]),\n",
       " 'PartitionKey': array([nan])}"
      ]
     },
     "execution_count": 7,
     "metadata": {},
     "output_type": "execute_result"
    }
   ],
   "source": [
    "{col:ED_wales_raw_data[col].unique() for col in ED_wales_raw_data.iloc[:,1:].columns}"
   ]
  },
  {
   "cell_type": "markdown",
   "metadata": {},
   "source": [
    "### **3.1 Data Cleaning**"
   ]
  },
  {
   "cell_type": "markdown",
   "metadata": {},
   "source": [
    "- After having inspected the columns' unique values, I will retain only the following columns for further analysis (I remove columns that are redundant, columns with values that are not well defined and columns with missing values):\n",
    "    - `Data` = the monthly emergency attendances recorded in Welsh hospitals (float)\n",
    "    - `Age_ItemName_ENG` = the age group of the individual/s presenting at the emergency dept (string)\n",
    "    - `Date_ItemName_ENG` = date and year when the emergency attendances where recorded (string)\n",
    "    - `Sex_ItemName_ENG` =  the sex group of the individual/s presenting at the emergency dept (string)\n",
    "    - `Hospital_ItemName_ENG` =  the emergency dept's hospital (string)\n",
    "    - `Hospital_Hierarchy` =  the Welsh Local Health Board code where a hospital is located (string)\n",
    "    \n",
    "    \n",
    "- Note: records are at an **aggregated level**, i.e. each record in the dataset does not belong to a specific individual, but to groups of individuals with the same characteristics of age group and sex, presenting at the same emergency dept in the same month-year. This is common of open source data containing confidential information, in order to ensure anonimity"
   ]
  },
  {
   "cell_type": "code",
   "execution_count": 7,
   "metadata": {},
   "outputs": [],
   "source": [
    "ED_wales_data_cln = ED_wales_raw_data[['Data',\n",
    "                                        'Age_ItemName_ENG',\n",
    "                                        'Date_ItemName_ENG',\n",
    "                                        'Sex_ItemName_ENG',\n",
    "                                        'Hospital_ItemName_ENG',\n",
    "                                        'Hospital_Hierarchy']].copy()"
   ]
  },
  {
   "cell_type": "markdown",
   "metadata": {},
   "source": [
    "- Due to personal knowledge, I will then convert each Local health board code (stored in the `Hospital_Hierarchy` variable) into the corresponding local health board name, to make the data hopefully more familiar to the reader."
   ]
  },
  {
   "cell_type": "code",
   "execution_count": 8,
   "metadata": {},
   "outputs": [],
   "source": [
    "## function to assign LHB names to their corresponding codes\n",
    "def LHB_names(row):\n",
    "    if row['Hospital_Hierarchy'] == 'W92000004':\n",
    "        return 'Wales'\n",
    "    elif row['Hospital_Hierarchy'] == 'W11000023':\n",
    "        return 'Betsi Cadwaladr'\n",
    "    elif row['Hospital_Hierarchy'] == 'W11000024':\n",
    "        return 'Powys Teaching'\n",
    "    elif row['Hospital_Hierarchy'] == 'W11000025':\n",
    "        return 'Hywel Dda'\n",
    "    elif row['Hospital_Hierarchy'] == 'W11000031':\n",
    "        return 'Swansea Bay'\n",
    "    elif row['Hospital_Hierarchy'] == 'W11000026':\n",
    "        return 'Abertawe Bro Morgannwg'\n",
    "    elif row['Hospital_Hierarchy'] == 'W11000030':\n",
    "        return 'Cwm Taf Morgannwg'\n",
    "    elif row['Hospital_Hierarchy'] == 'W11000027':\n",
    "        return 'Cwm Taf'\n",
    "    elif row['Hospital_Hierarchy'] == 'W11000028':\n",
    "        return 'Aneurin Bevan'\n",
    "    elif row['Hospital_Hierarchy'] == 'W11000029':\n",
    "        return 'Cardiff & Vale'\n",
    "    else:\n",
    "        return 'Other'"
   ]
  },
  {
   "cell_type": "code",
   "execution_count": 9,
   "metadata": {},
   "outputs": [],
   "source": [
    "ED_wales_data_cln['LHB'] = ED_wales_data_cln.apply(LHB_names, axis=1)"
   ]
  },
  {
   "cell_type": "markdown",
   "metadata": {},
   "source": [
    "- I will also convert the **Month-Year column** (`Date_ItemName_ENG`) into a **datetime** type"
   ]
  },
  {
   "cell_type": "code",
   "execution_count": 34,
   "metadata": {},
   "outputs": [
    {
     "name": "stdout",
     "output_type": "stream",
     "text": [
      "<class 'pandas.core.frame.DataFrame'>\n",
      "RangeIndex: 95597 entries, 0 to 95596\n",
      "Data columns (total 7 columns):\n",
      " #   Column                 Non-Null Count  Dtype         \n",
      "---  ------                 --------------  -----         \n",
      " 0   Data                   95597 non-null  float64       \n",
      " 1   Age_ItemName_ENG       95597 non-null  object        \n",
      " 2   Date_ItemName_ENG      95597 non-null  datetime64[ns]\n",
      " 3   Sex_ItemName_ENG       95597 non-null  object        \n",
      " 4   Hospital_ItemName_ENG  95597 non-null  object        \n",
      " 5   Hospital_Hierarchy     95597 non-null  object        \n",
      " 6   LHB                    95597 non-null  object        \n",
      "dtypes: datetime64[ns](1), float64(1), object(5)\n",
      "memory usage: 5.1+ MB\n"
     ]
    }
   ],
   "source": [
    "ED_wales_data_cln['Date_ItemName_ENG'] = pd.to_datetime(ED_wales_data_cln['Date_ItemName_ENG'], format = '%B %Y')\n",
    "ED_wales_data_cln.info()"
   ]
  },
  {
   "cell_type": "markdown",
   "metadata": {},
   "source": [
    "### **3.2 Exploratory Data Visualisation**\n",
    "\n",
    "The next step is to start **plotting** the data in order to get a first grasp of the variables. I will use **bar plots** for the **categorical variables** and a **box plot** for the only **quantitative variable**."
   ]
  },
  {
   "cell_type": "markdown",
   "metadata": {},
   "source": [
    "#### **3.2.1 Sex group** variable (`Sex_ItemName_ENG`) - categorical"
   ]
  },
  {
   "cell_type": "code",
   "execution_count": 28,
   "metadata": {},
   "outputs": [
    {
     "name": "stdout",
     "output_type": "stream",
     "text": [
      "Number of unique categories for Sex group variable:  3\n"
     ]
    }
   ],
   "source": [
    "print(\"Number of unique categories for Sex group variable: \", ED_wales_data_cln['Sex_ItemName_ENG'].nunique())"
   ]
  },
  {
   "cell_type": "code",
   "execution_count": 11,
   "metadata": {},
   "outputs": [
    {
     "data": {
      "text/plain": [
       "[Text(0.5, 1.0, 'Number of records by Sex group'), Text(0.5, 0, 'Sex group')]"
      ]
     },
     "execution_count": 11,
     "metadata": {},
     "output_type": "execute_result"
    },
    {
     "data": {
      "image/png": "[encoded data removed]",
      "text/plain": [
       "<Figure size 640x480 with 1 Axes>"
      ]
     },
     "metadata": {},
     "output_type": "display_data"
    }
   ],
   "source": [
    "## counts by Sex group variable\n",
    "plot = sns.countplot(x=\"Sex_ItemName_ENG\", data=ED_wales_data_cln)\n",
    "plot.set_xticklabels(plot.get_xticklabels(), rotation=90)\n",
    "plot.set(title=\"Number of records by Sex group\", xlabel=\"Sex group\")"
   ]
  },
  {
   "cell_type": "markdown",
   "metadata": {},
   "source": [
    "#### **3.2.2 Age group** variable (`Age_ItemName_ENG`) - categorical"
   ]
  },
  {
   "cell_type": "code",
   "execution_count": 29,
   "metadata": {},
   "outputs": [
    {
     "name": "stdout",
     "output_type": "stream",
     "text": [
      "Number of unique categories for Age Group variable:  17\n"
     ]
    }
   ],
   "source": [
    "print(\"Number of unique categories for Age Group variable: \", ED_wales_data_cln['Age_ItemName_ENG'].nunique())"
   ]
  },
  {
   "cell_type": "code",
   "execution_count": 26,
   "metadata": {},
   "outputs": [
    {
     "data": {
      "text/plain": [
       "[Text(0.5, 1.0, 'Number of records by Age Group'), Text(0.5, 0, 'Age Group')]"
      ]
     },
     "execution_count": 26,
     "metadata": {},
     "output_type": "execute_result"
    },
    {
     "data": {
      "image/png": "[encoded data removed]",
      "text/plain": [
       "<Figure size 640x480 with 1 Axes>"
      ]
     },
     "metadata": {},
     "output_type": "display_data"
    }
   ],
   "source": [
    "## counts by Age Group variable\n",
    "plot = sns.countplot(x=\"Age_ItemName_ENG\", data=ED_wales_data_cln)\n",
    "plot.set_xticklabels(plot.get_xticklabels(), rotation=90)\n",
    "plot.set(title=\"Number of records by Age Group\", xlabel=\"Age Group\")"
   ]
  },
  {
   "cell_type": "markdown",
   "metadata": {},
   "source": [
    "#### **Hospital** variable (`Hospital_ItemName_ENG`)  - categorical"
   ]
  },
  {
   "cell_type": "code",
   "execution_count": 30,
   "metadata": {},
   "outputs": [
    {
     "name": "stdout",
     "output_type": "stream",
     "text": [
      "Number of unique categories for Hospital variable:  39\n"
     ]
    }
   ],
   "source": [
    "print(\"Number of unique categories for Hospital variable: \", ED_wales_data_cln['Hospital_ItemName_ENG'].nunique())"
   ]
  },
  {
   "cell_type": "code",
   "execution_count": 12,
   "metadata": {},
   "outputs": [
    {
     "data": {
      "text/plain": [
       "[Text(0.5, 1.0, 'Number of records by Hospital'), Text(0.5, 0, 'Hospital')]"
      ]
     },
     "execution_count": 12,
     "metadata": {},
     "output_type": "execute_result"
    },
    {
     "data": {
      "image/png": "[encoded data removed]",
      "text/plain": [
       "<Figure size 640x480 with 1 Axes>"
      ]
     },
     "metadata": {},
     "output_type": "display_data"
    }
   ],
   "source": [
    "## counts by Hospital variable\n",
    "plot = sns.countplot(x=\"Hospital_ItemName_ENG\", data=ED_wales_data_cln)\n",
    "plot.set_xticklabels(plot.get_xticklabels(), rotation=90)\n",
    "plot.set(title=\"Number of records by Hospital\", xlabel=\"Hospital\")"
   ]
  },
  {
   "cell_type": "markdown",
   "metadata": {},
   "source": [
    "#### **3.2.3 Local Health Board** variable (`LHB`)  - categorical"
   ]
  },
  {
   "cell_type": "code",
   "execution_count": 31,
   "metadata": {},
   "outputs": [
    {
     "name": "stdout",
     "output_type": "stream",
     "text": [
      "Number of unique categories for LHB variable:  9\n"
     ]
    }
   ],
   "source": [
    "print(\"Number of unique categories for LHB variable: \", ED_wales_data_cln['LHB'].nunique())"
   ]
  },
  {
   "cell_type": "code",
   "execution_count": 21,
   "metadata": {},
   "outputs": [
    {
     "data": {
      "text/plain": [
       "[Text(0.5, 1.0, 'Number of records by Local Health Board'),\n",
       " Text(0.5, 0, 'Local Health Board')]"
      ]
     },
     "execution_count": 21,
     "metadata": {},
     "output_type": "execute_result"
    },
    {
     "data": {
      "image/png": "[encoded data removed]",
      "text/plain": [
       "<Figure size 640x480 with 1 Axes>"
      ]
     },
     "metadata": {},
     "output_type": "display_data"
    }
   ],
   "source": [
    "## counts by Welsh Local Health Board\n",
    "plot = sns.countplot(x=\"LHB\", data=ED_wales_data_cln)\n",
    "plot.set_xticklabels(plot.get_xticklabels(), rotation=90)\n",
    "plot.set(title=\"Number of records by Local Health Board\", xlabel=\"Local Health Board\")"
   ]
  },
  {
   "cell_type": "markdown",
   "metadata": {},
   "source": [
    "#### **3.2.4 Number of Emergency Dept (ED) attendances** variable (`Data`)  - quantitative"
   ]
  },
  {
   "cell_type": "code",
   "execution_count": 36,
   "metadata": {},
   "outputs": [
    {
     "name": "stdout",
     "output_type": "stream",
     "text": [
      "ED monthly Attendances: Median = 41.0, Minimum = 1.0, Maximum = 1236.0\n"
     ]
    }
   ],
   "source": [
    "print(\"ED monthly Attendances: Median = {}, Minimum = {}, Maximum = {}\".format(ED_wales_data_cln['Data'].median(), ED_wales_data_cln['Data'].min(), ED_wales_data_cln['Data'].max()))"
   ]
  },
  {
   "cell_type": "code",
   "execution_count": 29,
   "metadata": {},
   "outputs": [
    {
     "data": {
      "text/plain": [
       "[Text(0.5, 1.0, 'Distribution of monthly ED Attendances'),\n",
       " Text(0.5, 0, 'Monthly ED Attendances')]"
      ]
     },
     "execution_count": 29,
     "metadata": {},
     "output_type": "execute_result"
    },
    {
     "data": {
      "image/png": "[encoded data removed]",
      "text/plain": [
       "<Figure size 640x480 with 1 Axes>"
      ]
     },
     "metadata": {},
     "output_type": "display_data"
    }
   ],
   "source": [
    "## boxplot of ED attendances data\n",
    "plot = sns.boxplot(x=\"Data\", data=ED_wales_data_cln)\n",
    "plot.set(title=\"Distribution of monthly ED Attendances\", xlabel=\"Monthly ED Attendances\")"
   ]
  },
  {
   "cell_type": "markdown",
   "metadata": {},
   "source": [
    "## **4. Plotting time series and fitting a time series model to the historical data**"
   ]
  },
  {
   "cell_type": "markdown",
   "metadata": {},
   "source": [
    "I will start by looking at the plots of different time series stored within the dataset. I will use the `plotly` library to obtain **interactive time line plots**. I will also keep on using `seaborn` to show **static plots**."
   ]
  },
  {
   "cell_type": "markdown",
   "metadata": {},
   "source": [
    "### **4.1 All Wales aggregated time series**\n",
    "- ED attendances have been aggregated by time point (Month-Year) to obtain an overview for the whole Wales nation\n",
    "- You can notice some **seasonal structure** within the data (recurring peaks and troughs within the period of one year)\n",
    "- You can also observe the **huge decrease in volume** in ED attendances between March 2020 and April 2021 caused by the **COVID pandemic**"
   ]
  },
  {
   "cell_type": "code",
   "execution_count": 36,
   "metadata": {},
   "outputs": [
    {
     "data": {
      "application/vnd.plotly.v1+json": {
       "config": {
        "plotlyServerURL": "https://plot.ly"
       },
       "data": [
        {
         "hovertemplate": "Date_ItemName_ENG=%{x}<br>Data=%{y}<extra></extra>",
         "legendgroup": "",
         "line": {
          "color": "#636efa",
          "dash": "solid"
         },
         "marker": {
          "symbol": "circle"
         },
         "mode": "lines",
         "name": "",
         "orientation": "v",
         "showlegend": false,
         "type": "scatter",
         "x": [
          "2016-04-01T00:00:00",
          "2016-05-01T00:00:00",
          "2016-06-01T00:00:00",
          "2016-07-01T00:00:00",
          "2016-08-01T00:00:00",
          "2016-09-01T00:00:00",
          "2016-10-01T00:00:00",
          "2016-11-01T00:00:00",
          "2016-12-01T00:00:00",
          "2017-01-01T00:00:00",
          "2017-02-01T00:00:00",
          "2017-03-01T00:00:00",
          "2017-04-01T00:00:00",
          "2017-05-01T00:00:00",
          "2017-06-01T00:00:00",
          "2017-07-01T00:00:00",
          "2017-08-01T00:00:00",
          "2017-09-01T00:00:00",
          "2017-10-01T00:00:00",
          "2017-11-01T00:00:00",
          "2017-12-01T00:00:00",
          "2018-01-01T00:00:00",
          "2018-02-01T00:00:00",
          "2018-03-01T00:00:00",
          "2018-04-01T00:00:00",
          "2018-05-01T00:00:00",
          "2018-06-01T00:00:00",
          "2018-07-01T00:00:00",
          "2018-08-01T00:00:00",
          "2018-09-01T00:00:00",
          "2018-10-01T00:00:00",
          "2018-11-01T00:00:00",
          "2018-12-01T00:00:00",
          "2019-01-01T00:00:00",
          "2019-02-01T00:00:00",
          "2019-03-01T00:00:00",
          "2019-04-01T00:00:00",
          "2019-05-01T00:00:00",
          "2019-06-01T00:00:00",
          "2019-07-01T00:00:00",
          "2019-08-01T00:00:00",
          "2019-09-01T00:00:00",
          "2019-10-01T00:00:00",
          "2019-11-01T00:00:00",
          "2019-12-01T00:00:00",
          "2020-01-01T00:00:00",
          "2020-02-01T00:00:00",
          "2020-03-01T00:00:00",
          "2020-04-01T00:00:00",
          "2020-05-01T00:00:00",
          "2020-06-01T00:00:00",
          "2020-07-01T00:00:00",
          "2020-08-01T00:00:00",
          "2020-09-01T00:00:00",
          "2020-10-01T00:00:00",
          "2020-11-01T00:00:00",
          "2020-12-01T00:00:00",
          "2021-01-01T00:00:00",
          "2021-02-01T00:00:00",
          "2021-03-01T00:00:00",
          "2021-04-01T00:00:00",
          "2021-05-01T00:00:00",
          "2021-06-01T00:00:00",
          "2021-07-01T00:00:00",
          "2021-08-01T00:00:00",
          "2021-09-01T00:00:00",
          "2021-10-01T00:00:00",
          "2021-11-01T00:00:00",
          "2021-12-01T00:00:00",
          "2022-01-01T00:00:00",
          "2022-02-01T00:00:00",
          "2022-03-01T00:00:00",
          "2022-04-01T00:00:00",
          "2022-05-01T00:00:00",
          "2022-06-01T00:00:00",
          "2022-07-01T00:00:00",
          "2022-08-01T00:00:00",
          "2022-09-01T00:00:00",
          "2022-10-01T00:00:00",
          "2022-11-01T00:00:00",
          "2022-12-01T00:00:00",
          "2023-01-01T00:00:00",
          "2023-02-01T00:00:00",
          "2023-03-01T00:00:00",
          "2023-04-01T00:00:00",
          "2023-05-01T00:00:00",
          "2023-06-01T00:00:00",
          "2023-07-01T00:00:00",
          "2023-08-01T00:00:00",
          "2023-09-01T00:00:00",
          "2023-10-01T00:00:00",
          "2023-11-01T00:00:00"
         ],
         "xaxis": "x",
         "y": [
          79246,
          88058,
          84269,
          87252,
          85104,
          84134,
          85177,
          78154,
          76731,
          77117,
          71095,
          84270,
          83708,
          89483,
          85221,
          90595,
          88233,
          84449,
          88584,
          81203,
          81057,
          79341,
          74449,
          81652,
          83246,
          92301,
          90537,
          94587,
          87201,
          83613,
          87085,
          80856,
          80379,
          82412,
          77437,
          87383,
          88076,
          90684,
          86346,
          96871,
          90482,
          89529,
          88634,
          84062,
          83628,
          81947,
          76254,
          61614,
          41502,
          58738,
          65268,
          72256,
          77747,
          73515,
          63580,
          62822,
          57886,
          53890,
          53609,
          70565,
          81030,
          85404,
          91749,
          91935,
          77147,
          86004,
          83889,
          79245,
          72833,
          73840,
          72499,
          87636,
          82066,
          89570,
          87293,
          90799,
          90165,
          86320,
          91435,
          85012,
          88284,
          77921,
          77820,
          89266,
          87122,
          99189,
          98334,
          94953,
          92827,
          92661,
          93307,
          85067
         ],
         "yaxis": "y"
        }
       ],
       "layout": {
        "legend": {
         "tracegroupgap": 0
        },
        "margin": {
         "t": 60
        },
        "template": {
         "data": {
          "bar": [
           {
            "error_x": {
             "color": "#2a3f5f"
            },
            "error_y": {
             "color": "#2a3f5f"
            },
            "marker": {
             "line": {
              "color": "#E5ECF6",
              "width": 0.5
             },
             "pattern": {
              "fillmode": "overlay",
              "size": 10,
              "solidity": 0.2
             }
            },
            "type": "bar"
           }
          ],
          "barpolar": [
           {
            "marker": {
             "line": {
              "color": "#E5ECF6",
              "width": 0.5
             },
             "pattern": {
              "fillmode": "overlay",
              "size": 10,
              "solidity": 0.2
             }
            },
            "type": "barpolar"
           }
          ],
          "carpet": [
           {
            "aaxis": {
             "endlinecolor": "#2a3f5f",
             "gridcolor": "white",
             "linecolor": "white",
             "minorgridcolor": "white",
             "startlinecolor": "#2a3f5f"
            },
            "baxis": {
             "endlinecolor": "#2a3f5f",
             "gridcolor": "white",
             "linecolor": "white",
             "minorgridcolor": "white",
             "startlinecolor": "#2a3f5f"
            },
            "type": "carpet"
           }
          ],
          "choropleth": [
           {
            "colorbar": {
             "outlinewidth": 0,
             "ticks": ""
            },
            "type": "choropleth"
           }
          ],
          "contour": [
           {
            "colorbar": {
             "outlinewidth": 0,
             "ticks": ""
            },
            "colorscale": [
             [
              0,
              "#0d0887"
             ],
             [
              0.1111111111111111,
              "#46039f"
             ],
             [
              0.2222222222222222,
              "#7201a8"
             ],
             [
              0.3333333333333333,
              "#9c179e"
             ],
             [
              0.4444444444444444,
              "#bd3786"
             ],
             [
              0.5555555555555556,
              "#d8576b"
             ],
             [
              0.6666666666666666,
              "#ed7953"
             ],
             [
              0.7777777777777778,
              "#fb9f3a"
             ],
             [
              0.8888888888888888,
              "#fdca26"
             ],
             [
              1,
              "#f0f921"
             ]
            ],
            "type": "contour"
           }
          ],
          "contourcarpet": [
           {
            "colorbar": {
             "outlinewidth": 0,
             "ticks": ""
            },
            "type": "contourcarpet"
           }
          ],
          "heatmap": [
           {
            "colorbar": {
             "outlinewidth": 0,
             "ticks": ""
            },
            "colorscale": [
             [
              0,
              "#0d0887"
             ],
             [
              0.1111111111111111,
              "#46039f"
             ],
             [
              0.2222222222222222,
              "#7201a8"
             ],
             [
              0.3333333333333333,
              "#9c179e"
             ],
             [
              0.4444444444444444,
              "#bd3786"
             ],
             [
              0.5555555555555556,
              "#d8576b"
             ],
             [
              0.6666666666666666,
              "#ed7953"
             ],
             [
              0.7777777777777778,
              "#fb9f3a"
             ],
             [
              0.8888888888888888,
              "#fdca26"
             ],
             [
              1,
              "#f0f921"
             ]
            ],
            "type": "heatmap"
           }
          ],
          "heatmapgl": [
           {
            "colorbar": {
             "outlinewidth": 0,
             "ticks": ""
            },
            "colorscale": [
             [
              0,
              "#0d0887"
             ],
             [
              0.1111111111111111,
              "#46039f"
             ],
             [
              0.2222222222222222,
              "#7201a8"
             ],
             [
              0.3333333333333333,
              "#9c179e"
             ],
             [
              0.4444444444444444,
              "#bd3786"
             ],
             [
              0.5555555555555556,
              "#d8576b"
             ],
             [
              0.6666666666666666,
              "#ed7953"
             ],
             [
              0.7777777777777778,
              "#fb9f3a"
             ],
             [
              0.8888888888888888,
              "#fdca26"
             ],
             [
              1,
              "#f0f921"
             ]
            ],
            "type": "heatmapgl"
           }
          ],
          "histogram": [
           {
            "marker": {
             "pattern": {
              "fillmode": "overlay",
              "size": 10,
              "solidity": 0.2
             }
            },
            "type": "histogram"
           }
          ],
          "histogram2d": [
           {
            "colorbar": {
             "outlinewidth": 0,
             "ticks": ""
            },
            "colorscale": [
             [
              0,
              "#0d0887"
             ],
             [
              0.1111111111111111,
              "#46039f"
             ],
             [
              0.2222222222222222,
              "#7201a8"
             ],
             [
              0.3333333333333333,
              "#9c179e"
             ],
             [
              0.4444444444444444,
              "#bd3786"
             ],
             [
              0.5555555555555556,
              "#d8576b"
             ],
             [
              0.6666666666666666,
              "#ed7953"
             ],
             [
              0.7777777777777778,
              "#fb9f3a"
             ],
             [
              0.8888888888888888,
              "#fdca26"
             ],
             [
              1,
              "#f0f921"
             ]
            ],
            "type": "histogram2d"
           }
          ],
          "histogram2dcontour": [
           {
            "colorbar": {
             "outlinewidth": 0,
             "ticks": ""
            },
            "colorscale": [
             [
              0,
              "#0d0887"
             ],
             [
              0.1111111111111111,
              "#46039f"
             ],
             [
              0.2222222222222222,
              "#7201a8"
             ],
             [
              0.3333333333333333,
              "#9c179e"
             ],
             [
              0.4444444444444444,
              "#bd3786"
             ],
             [
              0.5555555555555556,
              "#d8576b"
             ],
             [
              0.6666666666666666,
              "#ed7953"
             ],
             [
              0.7777777777777778,
              "#fb9f3a"
             ],
             [
              0.8888888888888888,
              "#fdca26"
             ],
             [
              1,
              "#f0f921"
             ]
            ],
            "type": "histogram2dcontour"
           }
          ],
          "mesh3d": [
           {
            "colorbar": {
             "outlinewidth": 0,
             "ticks": ""
            },
            "type": "mesh3d"
           }
          ],
          "parcoords": [
           {
            "line": {
             "colorbar": {
              "outlinewidth": 0,
              "ticks": ""
             }
            },
            "type": "parcoords"
           }
          ],
          "pie": [
           {
            "automargin": true,
            "type": "pie"
           }
          ],
          "scatter": [
           {
            "fillpattern": {
             "fillmode": "overlay",
             "size": 10,
             "solidity": 0.2
            },
            "type": "scatter"
           }
          ],
          "scatter3d": [
           {
            "line": {
             "colorbar": {
              "outlinewidth": 0,
              "ticks": ""
             }
            },
            "marker": {
             "colorbar": {
              "outlinewidth": 0,
              "ticks": ""
             }
            },
            "type": "scatter3d"
           }
          ],
          "scattercarpet": [
           {
            "marker": {
             "colorbar": {
              "outlinewidth": 0,
              "ticks": ""
             }
            },
            "type": "scattercarpet"
           }
          ],
          "scattergeo": [
           {
            "marker": {
             "colorbar": {
              "outlinewidth": 0,
              "ticks": ""
             }
            },
            "type": "scattergeo"
           }
          ],
          "scattergl": [
           {
            "marker": {
             "colorbar": {
              "outlinewidth": 0,
              "ticks": ""
             }
            },
            "type": "scattergl"
           }
          ],
          "scattermapbox": [
           {
            "marker": {
             "colorbar": {
              "outlinewidth": 0,
              "ticks": ""
             }
            },
            "type": "scattermapbox"
           }
          ],
          "scatterpolar": [
           {
            "marker": {
             "colorbar": {
              "outlinewidth": 0,
              "ticks": ""
             }
            },
            "type": "scatterpolar"
           }
          ],
          "scatterpolargl": [
           {
            "marker": {
             "colorbar": {
              "outlinewidth": 0,
              "ticks": ""
             }
            },
            "type": "scatterpolargl"
           }
          ],
          "scatterternary": [
           {
            "marker": {
             "colorbar": {
              "outlinewidth": 0,
              "ticks": ""
             }
            },
            "type": "scatterternary"
           }
          ],
          "surface": [
           {
            "colorbar": {
             "outlinewidth": 0,
             "ticks": ""
            },
            "colorscale": [
             [
              0,
              "#0d0887"
             ],
             [
              0.1111111111111111,
              "#46039f"
             ],
             [
              0.2222222222222222,
              "#7201a8"
             ],
             [
              0.3333333333333333,
              "#9c179e"
             ],
             [
              0.4444444444444444,
              "#bd3786"
             ],
             [
              0.5555555555555556,
              "#d8576b"
             ],
             [
              0.6666666666666666,
              "#ed7953"
             ],
             [
              0.7777777777777778,
              "#fb9f3a"
             ],
             [
              0.8888888888888888,
              "#fdca26"
             ],
             [
              1,
              "#f0f921"
             ]
            ],
            "type": "surface"
           }
          ],
          "table": [
           {
            "cells": {
             "fill": {
              "color": "#EBF0F8"
             },
             "line": {
              "color": "white"
             }
            },
            "header": {
             "fill": {
              "color": "#C8D4E3"
             },
             "line": {
              "color": "white"
             }
            },
            "type": "table"
           }
          ]
         },
         "layout": {
          "annotationdefaults": {
           "arrowcolor": "#2a3f5f",
           "arrowhead": 0,
           "arrowwidth": 1
          },
          "autotypenumbers": "strict",
          "coloraxis": {
           "colorbar": {
            "outlinewidth": 0,
            "ticks": ""
           }
          },
          "colorscale": {
           "diverging": [
            [
             0,
             "#8e0152"
            ],
            [
             0.1,
             "#c51b7d"
            ],
            [
             0.2,
             "#de77ae"
            ],
            [
             0.3,
             "#f1b6da"
            ],
            [
             0.4,
             "#fde0ef"
            ],
            [
             0.5,
             "#f7f7f7"
            ],
            [
             0.6,
             "#e6f5d0"
            ],
            [
             0.7,
             "#b8e186"
            ],
            [
             0.8,
             "#7fbc41"
            ],
            [
             0.9,
             "#4d9221"
            ],
            [
             1,
             "#276419"
            ]
           ],
           "sequential": [
            [
             0,
             "#0d0887"
            ],
            [
             0.1111111111111111,
             "#46039f"
            ],
            [
             0.2222222222222222,
             "#7201a8"
            ],
            [
             0.3333333333333333,
             "#9c179e"
            ],
            [
             0.4444444444444444,
             "#bd3786"
            ],
            [
             0.5555555555555556,
             "#d8576b"
            ],
            [
             0.6666666666666666,
             "#ed7953"
            ],
            [
             0.7777777777777778,
             "#fb9f3a"
            ],
            [
             0.8888888888888888,
             "#fdca26"
            ],
            [
             1,
             "#f0f921"
            ]
           ],
           "sequentialminus": [
            [
             0,
             "#0d0887"
            ],
            [
             0.1111111111111111,
             "#46039f"
            ],
            [
             0.2222222222222222,
             "#7201a8"
            ],
            [
             0.3333333333333333,
             "#9c179e"
            ],
            [
             0.4444444444444444,
             "#bd3786"
            ],
            [
             0.5555555555555556,
             "#d8576b"
            ],
            [
             0.6666666666666666,
             "#ed7953"
            ],
            [
             0.7777777777777778,
             "#fb9f3a"
            ],
            [
             0.8888888888888888,
             "#fdca26"
            ],
            [
             1,
             "#f0f921"
            ]
           ]
          },
          "colorway": [
           "#636efa",
           "#EF553B",
           "#00cc96",
           "#ab63fa",
           "#FFA15A",
           "#19d3f3",
           "#FF6692",
           "#B6E880",
           "#FF97FF",
           "#FECB52"
          ],
          "font": {
           "color": "#2a3f5f"
          },
          "geo": {
           "bgcolor": "white",
           "lakecolor": "white",
           "landcolor": "#E5ECF6",
           "showlakes": true,
           "showland": true,
           "subunitcolor": "white"
          },
          "hoverlabel": {
           "align": "left"
          },
          "hovermode": "closest",
          "mapbox": {
           "style": "light"
          },
          "paper_bgcolor": "white",
          "plot_bgcolor": "#E5ECF6",
          "polar": {
           "angularaxis": {
            "gridcolor": "white",
            "linecolor": "white",
            "ticks": ""
           },
           "bgcolor": "#E5ECF6",
           "radialaxis": {
            "gridcolor": "white",
            "linecolor": "white",
            "ticks": ""
           }
          },
          "scene": {
           "xaxis": {
            "backgroundcolor": "#E5ECF6",
            "gridcolor": "white",
            "gridwidth": 2,
            "linecolor": "white",
            "showbackground": true,
            "ticks": "",
            "zerolinecolor": "white"
           },
           "yaxis": {
            "backgroundcolor": "#E5ECF6",
            "gridcolor": "white",
            "gridwidth": 2,
            "linecolor": "white",
            "showbackground": true,
            "ticks": "",
            "zerolinecolor": "white"
           },
           "zaxis": {
            "backgroundcolor": "#E5ECF6",
            "gridcolor": "white",
            "gridwidth": 2,
            "linecolor": "white",
            "showbackground": true,
            "ticks": "",
            "zerolinecolor": "white"
           }
          },
          "shapedefaults": {
           "line": {
            "color": "#2a3f5f"
           }
          },
          "ternary": {
           "aaxis": {
            "gridcolor": "white",
            "linecolor": "white",
            "ticks": ""
           },
           "baxis": {
            "gridcolor": "white",
            "linecolor": "white",
            "ticks": ""
           },
           "bgcolor": "#E5ECF6",
           "caxis": {
            "gridcolor": "white",
            "linecolor": "white",
            "ticks": ""
           }
          },
          "title": {
           "x": 0.05
          },
          "xaxis": {
           "automargin": true,
           "gridcolor": "white",
           "linecolor": "white",
           "ticks": "",
           "title": {
            "standoff": 15
           },
           "zerolinecolor": "white",
           "zerolinewidth": 2
          },
          "yaxis": {
           "automargin": true,
           "gridcolor": "white",
           "linecolor": "white",
           "ticks": "",
           "title": {
            "standoff": 15
           },
           "zerolinecolor": "white",
           "zerolinewidth": 2
          }
         }
        },
        "title": {
         "text": "All Wales aggregated ED attendances"
        },
        "xaxis": {
         "anchor": "y",
         "domain": [
          0,
          1
         ],
         "title": {
          "text": "Month-Year"
         }
        },
        "yaxis": {
         "anchor": "x",
         "domain": [
          0,
          1
         ],
         "title": {
          "text": "Monthly ED attendances"
         }
        }
       }
      }
     },
     "metadata": {},
     "output_type": "display_data"
    },
    {
     "data": {
      "text/plain": [
       "[Text(0.5, 1.0, 'All Wales aggregated ED attendances'),\n",
       " Text(0.5, 0, 'Month-Year'),\n",
       " Text(0, 0.5, 'Monthly ED attendances')]"
      ]
     },
     "execution_count": 36,
     "metadata": {},
     "output_type": "execute_result"
    },
    {
     "data": {
      "image/png": "[encoded data removed]",
      "text/plain": [
       "<Figure size 640x480 with 1 Axes>"
      ]
     },
     "metadata": {},
     "output_type": "display_data"
    }
   ],
   "source": [
    "## aggregate the data by year\n",
    "ED_wales_data_cln_AW = ED_wales_data_cln.groupby(['Date_ItemName_ENG'])['Data'].sum().reset_index()\n",
    "\n",
    "## create the interactive time plot\n",
    "fig = px.line(ED_wales_data_cln_AW.sort_values(by='Date_ItemName_ENG'),x='Date_ItemName_ENG', y='Data')\n",
    "fig.update_layout(\n",
    "    title=\"All Wales aggregated ED attendances\", \n",
    "    xaxis_title=\"Month-Year\", \n",
    "    yaxis_title=\"Monthly ED attendances\")\n",
    "fig.show()\n",
    "\n",
    "## create the static plot\n",
    "sns.lineplot(\n",
    "    x=\"Date_ItemName_ENG\", \n",
    "    y=\"Data\", \n",
    "    data=ED_wales_data_cln_AW).set(\n",
    "        title=\"All Wales aggregated ED attendances\", \n",
    "        xlabel=\"Month-Year\", \n",
    "        ylabel=\"Monthly ED attendances\")"
   ]
  },
  {
   "cell_type": "markdown",
   "metadata": {},
   "source": [
    "### **4.2 Time series aggregated by Local Health Board**"
   ]
  },
  {
   "cell_type": "code",
   "execution_count": 37,
   "metadata": {},
   "outputs": [
    {
     "data": {
      "text/plain": [
       "Index(['Data', 'Age_ItemName_ENG', 'Date_ItemName_ENG', 'Sex_ItemName_ENG',\n",
       "       'Hospital_ItemName_ENG', 'Hospital_Hierarchy', 'LHB'],\n",
       "      dtype='object')"
      ]
     },
     "execution_count": 37,
     "metadata": {},
     "output_type": "execute_result"
    }
   ],
   "source": [
    "ED_wales_data_cln.columns"
   ]
  },
  {
   "cell_type": "code",
   "execution_count": 49,
   "metadata": {},
   "outputs": [
    {
     "data": {
      "application/vnd.plotly.v1+json": {
       "config": {
        "plotlyServerURL": "https://plot.ly"
       },
       "data": [
        {
         "hovertemplate": "LHB=Abertawe Bro Morgannwg<br>Date_ItemName_ENG=%{x}<br>Data=%{y}<extra></extra>",
         "legendgroup": "Abertawe Bro Morgannwg",
         "line": {
          "color": "#636efa",
          "dash": "solid"
         },
         "marker": {
          "symbol": "circle"
         },
         "mode": "lines",
         "name": "Abertawe Bro Morgannwg",
         "orientation": "v",
         "showlegend": true,
         "type": "scatter",
         "x": [
          "2016-04-01T00:00:00",
          "2016-05-01T00:00:00",
          "2016-06-01T00:00:00",
          "2016-07-01T00:00:00",
          "2016-08-01T00:00:00",
          "2016-09-01T00:00:00",
          "2016-10-01T00:00:00",
          "2016-11-01T00:00:00",
          "2016-12-01T00:00:00",
          "2017-01-01T00:00:00",
          "2017-02-01T00:00:00",
          "2017-03-01T00:00:00",
          "2017-04-01T00:00:00",
          "2017-05-01T00:00:00",
          "2017-06-01T00:00:00",
          "2017-07-01T00:00:00",
          "2017-08-01T00:00:00",
          "2017-09-01T00:00:00",
          "2017-10-01T00:00:00",
          "2017-11-01T00:00:00",
          "2017-12-01T00:00:00",
          "2018-01-01T00:00:00",
          "2018-02-01T00:00:00",
          "2018-03-01T00:00:00",
          "2018-04-01T00:00:00",
          "2018-05-01T00:00:00",
          "2018-06-01T00:00:00",
          "2018-07-01T00:00:00",
          "2018-08-01T00:00:00",
          "2018-09-01T00:00:00",
          "2018-10-01T00:00:00",
          "2018-11-01T00:00:00",
          "2018-12-01T00:00:00",
          "2019-01-01T00:00:00",
          "2019-02-01T00:00:00",
          "2019-03-01T00:00:00"
         ],
         "xaxis": "x",
         "y": [
          15153,
          16725,
          15862,
          16125,
          15850,
          15826,
          16536,
          14904,
          14816,
          14430,
          13456,
          15816,
          15653,
          16759,
          15736,
          16431,
          16017,
          15571,
          16301,
          15108,
          15055,
          14515,
          13487,
          15098,
          15163,
          16935,
          16217,
          16548,
          15005,
          14928,
          15449,
          14106,
          13999,
          14414,
          13611,
          15438
         ],
         "yaxis": "y"
        },
        {
         "hovertemplate": "LHB=Aneurin Bevan<br>Date_ItemName_ENG=%{x}<br>Data=%{y}<extra></extra>",
         "legendgroup": "Aneurin Bevan",
         "line": {
          "color": "#EF553B",
          "dash": "solid"
         },
         "marker": {
          "symbol": "circle"
         },
         "mode": "lines",
         "name": "Aneurin Bevan",
         "orientation": "v",
         "showlegend": true,
         "type": "scatter",
         "x": [
          "2016-04-01T00:00:00",
          "2016-05-01T00:00:00",
          "2016-06-01T00:00:00",
          "2016-07-01T00:00:00",
          "2016-08-01T00:00:00",
          "2016-09-01T00:00:00",
          "2016-10-01T00:00:00",
          "2016-11-01T00:00:00",
          "2016-12-01T00:00:00",
          "2017-01-01T00:00:00",
          "2017-02-01T00:00:00",
          "2017-03-01T00:00:00",
          "2017-04-01T00:00:00",
          "2017-05-01T00:00:00",
          "2017-06-01T00:00:00",
          "2017-07-01T00:00:00",
          "2017-08-01T00:00:00",
          "2017-09-01T00:00:00",
          "2017-10-01T00:00:00",
          "2017-11-01T00:00:00",
          "2017-12-01T00:00:00",
          "2018-01-01T00:00:00",
          "2018-02-01T00:00:00",
          "2018-03-01T00:00:00",
          "2018-04-01T00:00:00",
          "2018-05-01T00:00:00",
          "2018-06-01T00:00:00",
          "2018-07-01T00:00:00",
          "2018-08-01T00:00:00",
          "2018-09-01T00:00:00",
          "2018-10-01T00:00:00",
          "2018-11-01T00:00:00",
          "2018-12-01T00:00:00",
          "2019-01-01T00:00:00",
          "2019-02-01T00:00:00",
          "2019-03-01T00:00:00",
          "2019-04-01T00:00:00",
          "2019-05-01T00:00:00",
          "2019-06-01T00:00:00",
          "2019-07-01T00:00:00",
          "2019-08-01T00:00:00",
          "2019-09-01T00:00:00",
          "2019-10-01T00:00:00",
          "2019-11-01T00:00:00",
          "2019-12-01T00:00:00",
          "2020-01-01T00:00:00",
          "2020-02-01T00:00:00",
          "2020-03-01T00:00:00",
          "2020-04-01T00:00:00",
          "2020-05-01T00:00:00",
          "2020-06-01T00:00:00",
          "2020-07-01T00:00:00",
          "2020-08-01T00:00:00",
          "2020-09-01T00:00:00",
          "2020-10-01T00:00:00",
          "2020-11-01T00:00:00",
          "2020-12-01T00:00:00",
          "2021-01-01T00:00:00",
          "2021-02-01T00:00:00",
          "2021-03-01T00:00:00",
          "2021-04-01T00:00:00",
          "2021-05-01T00:00:00",
          "2021-06-01T00:00:00",
          "2021-07-01T00:00:00",
          "2021-08-01T00:00:00",
          "2021-09-01T00:00:00",
          "2021-10-01T00:00:00",
          "2021-11-01T00:00:00",
          "2021-12-01T00:00:00",
          "2022-01-01T00:00:00",
          "2022-02-01T00:00:00",
          "2022-03-01T00:00:00",
          "2022-04-01T00:00:00",
          "2022-05-01T00:00:00",
          "2022-06-01T00:00:00",
          "2022-07-01T00:00:00",
          "2022-08-01T00:00:00",
          "2022-09-01T00:00:00",
          "2022-10-01T00:00:00",
          "2022-11-01T00:00:00",
          "2022-12-01T00:00:00",
          "2023-01-01T00:00:00",
          "2023-02-01T00:00:00",
          "2023-03-01T00:00:00",
          "2023-04-01T00:00:00",
          "2023-05-01T00:00:00",
          "2023-06-01T00:00:00",
          "2023-07-01T00:00:00",
          "2023-08-01T00:00:00",
          "2023-09-01T00:00:00",
          "2023-10-01T00:00:00",
          "2023-11-01T00:00:00"
         ],
         "xaxis": "x",
         "y": [
          13145,
          14692,
          14282,
          14831,
          13594,
          13904,
          13955,
          12946,
          12552,
          12739,
          11719,
          14324,
          13992,
          14755,
          14278,
          14940,
          14017,
          14046,
          14549,
          13309,
          13086,
          13179,
          12160,
          13061,
          13504,
          14939,
          14796,
          15464,
          14133,
          13887,
          14159,
          13428,
          13401,
          13847,
          12847,
          14864,
          14651,
          15009,
          14475,
          16309,
          14475,
          14968,
          14658,
          14042,
          14526,
          13792,
          12838,
          10230,
          6894,
          10086,
          10971,
          12260,
          12956,
          12532,
          11015,
          11087,
          10166,
          9518,
          9170,
          12450,
          14300,
          14788,
          16584,
          16081,
          4939,
          15809,
          15196,
          14411,
          12749,
          12990,
          12951,
          15812,
          14015,
          16006,
          15946,
          16087,
          15456,
          15189,
          16007,
          14817,
          15666,
          13218,
          13318,
          15013,
          14825,
          16860,
          16683,
          15788,
          15191,
          15831,
          16195,
          14435
         ],
         "yaxis": "y"
        },
        {
         "hovertemplate": "LHB=Betsi Cadwaladr<br>Date_ItemName_ENG=%{x}<br>Data=%{y}<extra></extra>",
         "legendgroup": "Betsi Cadwaladr",
         "line": {
          "color": "#00cc96",
          "dash": "solid"
         },
         "marker": {
          "symbol": "circle"
         },
         "mode": "lines",
         "name": "Betsi Cadwaladr",
         "orientation": "v",
         "showlegend": true,
         "type": "scatter",
         "x": [
          "2016-04-01T00:00:00",
          "2016-05-01T00:00:00",
          "2016-06-01T00:00:00",
          "2016-07-01T00:00:00",
          "2016-08-01T00:00:00",
          "2016-09-01T00:00:00",
          "2016-10-01T00:00:00",
          "2016-11-01T00:00:00",
          "2016-12-01T00:00:00",
          "2017-01-01T00:00:00",
          "2017-02-01T00:00:00",
          "2017-03-01T00:00:00",
          "2017-04-01T00:00:00",
          "2017-05-01T00:00:00",
          "2017-06-01T00:00:00",
          "2017-07-01T00:00:00",
          "2017-08-01T00:00:00",
          "2017-09-01T00:00:00",
          "2017-10-01T00:00:00",
          "2017-11-01T00:00:00",
          "2017-12-01T00:00:00",
          "2018-01-01T00:00:00",
          "2018-02-01T00:00:00",
          "2018-03-01T00:00:00",
          "2018-04-01T00:00:00",
          "2018-05-01T00:00:00",
          "2018-06-01T00:00:00",
          "2018-07-01T00:00:00",
          "2018-08-01T00:00:00",
          "2018-09-01T00:00:00",
          "2018-10-01T00:00:00",
          "2018-11-01T00:00:00",
          "2018-12-01T00:00:00",
          "2019-01-01T00:00:00",
          "2019-02-01T00:00:00",
          "2019-03-01T00:00:00",
          "2019-04-01T00:00:00",
          "2019-05-01T00:00:00",
          "2019-06-01T00:00:00",
          "2019-07-01T00:00:00",
          "2019-08-01T00:00:00",
          "2019-09-01T00:00:00",
          "2019-10-01T00:00:00",
          "2019-11-01T00:00:00",
          "2019-12-01T00:00:00",
          "2020-01-01T00:00:00",
          "2020-02-01T00:00:00",
          "2020-03-01T00:00:00",
          "2020-04-01T00:00:00",
          "2020-05-01T00:00:00",
          "2020-06-01T00:00:00",
          "2020-07-01T00:00:00",
          "2020-08-01T00:00:00",
          "2020-09-01T00:00:00",
          "2020-10-01T00:00:00",
          "2020-11-01T00:00:00",
          "2020-12-01T00:00:00",
          "2021-01-01T00:00:00",
          "2021-02-01T00:00:00",
          "2021-03-01T00:00:00",
          "2021-04-01T00:00:00",
          "2021-05-01T00:00:00",
          "2021-06-01T00:00:00",
          "2021-07-01T00:00:00",
          "2021-08-01T00:00:00",
          "2021-09-01T00:00:00",
          "2021-10-01T00:00:00",
          "2021-11-01T00:00:00",
          "2021-12-01T00:00:00",
          "2022-01-01T00:00:00",
          "2022-02-01T00:00:00",
          "2022-03-01T00:00:00",
          "2022-04-01T00:00:00",
          "2022-05-01T00:00:00",
          "2022-06-01T00:00:00",
          "2022-07-01T00:00:00",
          "2022-08-01T00:00:00",
          "2022-09-01T00:00:00",
          "2022-10-01T00:00:00",
          "2022-11-01T00:00:00",
          "2022-12-01T00:00:00",
          "2023-01-01T00:00:00",
          "2023-02-01T00:00:00",
          "2023-03-01T00:00:00",
          "2023-04-01T00:00:00",
          "2023-05-01T00:00:00",
          "2023-06-01T00:00:00",
          "2023-07-01T00:00:00",
          "2023-08-01T00:00:00",
          "2023-09-01T00:00:00",
          "2023-10-01T00:00:00",
          "2023-11-01T00:00:00"
         ],
         "xaxis": "x",
         "y": [
          16284,
          18230,
          17665,
          18947,
          19606,
          17814,
          17421,
          15555,
          15619,
          15323,
          14408,
          16901,
          17528,
          18922,
          17812,
          19120,
          19674,
          17100,
          18011,
          16077,
          16293,
          15739,
          14758,
          16656,
          17422,
          19193,
          18990,
          20140,
          19252,
          16974,
          17580,
          16197,
          16457,
          16501,
          15684,
          17271,
          18085,
          18935,
          18304,
          20506,
          20543,
          18111,
          17786,
          16714,
          17314,
          16543,
          15760,
          13097,
          8586,
          11624,
          13143,
          14518,
          16183,
          15358,
          13464,
          12897,
          12498,
          11756,
          11396,
          14013,
          16390,
          17849,
          18745,
          19340,
          18534,
          17523,
          17019,
          16216,
          15082,
          15245,
          14941,
          17831,
          17265,
          18750,
          18270,
          20240,
          20810,
          19247,
          20025,
          18761,
          19171,
          17148,
          16981,
          19535,
          19499,
          22242,
          22705,
          22008,
          22178,
          21165,
          21196,
          19419
         ],
         "yaxis": "y"
        },
        {
         "hovertemplate": "LHB=Cardiff & Vale<br>Date_ItemName_ENG=%{x}<br>Data=%{y}<extra></extra>",
         "legendgroup": "Cardiff & Vale",
         "line": {
          "color": "#ab63fa",
          "dash": "solid"
         },
         "marker": {
          "symbol": "circle"
         },
         "mode": "lines",
         "name": "Cardiff & Vale",
         "orientation": "v",
         "showlegend": true,
         "type": "scatter",
         "x": [
          "2016-04-01T00:00:00",
          "2016-05-01T00:00:00",
          "2016-06-01T00:00:00",
          "2016-07-01T00:00:00",
          "2016-08-01T00:00:00",
          "2016-09-01T00:00:00",
          "2016-10-01T00:00:00",
          "2016-11-01T00:00:00",
          "2016-12-01T00:00:00",
          "2017-01-01T00:00:00",
          "2017-02-01T00:00:00",
          "2017-03-01T00:00:00",
          "2017-04-01T00:00:00",
          "2017-05-01T00:00:00",
          "2017-06-01T00:00:00",
          "2017-07-01T00:00:00",
          "2017-08-01T00:00:00",
          "2017-09-01T00:00:00",
          "2017-10-01T00:00:00",
          "2017-11-01T00:00:00",
          "2017-12-01T00:00:00",
          "2018-01-01T00:00:00",
          "2018-02-01T00:00:00",
          "2018-03-01T00:00:00",
          "2018-04-01T00:00:00",
          "2018-05-01T00:00:00",
          "2018-06-01T00:00:00",
          "2018-07-01T00:00:00",
          "2018-08-01T00:00:00",
          "2018-09-01T00:00:00",
          "2018-10-01T00:00:00",
          "2018-11-01T00:00:00",
          "2018-12-01T00:00:00",
          "2019-01-01T00:00:00",
          "2019-02-01T00:00:00",
          "2019-03-01T00:00:00",
          "2019-04-01T00:00:00",
          "2019-05-01T00:00:00",
          "2019-06-01T00:00:00",
          "2019-07-01T00:00:00",
          "2019-08-01T00:00:00",
          "2019-09-01T00:00:00",
          "2019-10-01T00:00:00",
          "2019-11-01T00:00:00",
          "2019-12-01T00:00:00",
          "2020-01-01T00:00:00",
          "2020-02-01T00:00:00",
          "2020-03-01T00:00:00",
          "2020-04-01T00:00:00",
          "2020-05-01T00:00:00",
          "2020-06-01T00:00:00",
          "2020-07-01T00:00:00",
          "2020-08-01T00:00:00",
          "2020-09-01T00:00:00",
          "2020-10-01T00:00:00",
          "2020-11-01T00:00:00",
          "2020-12-01T00:00:00",
          "2021-01-01T00:00:00",
          "2021-02-01T00:00:00",
          "2021-03-01T00:00:00",
          "2021-04-01T00:00:00",
          "2021-05-01T00:00:00",
          "2021-06-01T00:00:00",
          "2021-07-01T00:00:00",
          "2021-08-01T00:00:00",
          "2021-09-01T00:00:00",
          "2021-10-01T00:00:00",
          "2021-11-01T00:00:00",
          "2021-12-01T00:00:00",
          "2022-01-01T00:00:00",
          "2022-02-01T00:00:00",
          "2022-03-01T00:00:00",
          "2022-04-01T00:00:00",
          "2022-05-01T00:00:00",
          "2022-06-01T00:00:00",
          "2022-07-01T00:00:00",
          "2022-08-01T00:00:00",
          "2022-09-01T00:00:00",
          "2022-10-01T00:00:00",
          "2022-11-01T00:00:00",
          "2022-12-01T00:00:00",
          "2023-01-01T00:00:00",
          "2023-02-01T00:00:00",
          "2023-03-01T00:00:00",
          "2023-04-01T00:00:00",
          "2023-05-01T00:00:00",
          "2023-06-01T00:00:00",
          "2023-07-01T00:00:00",
          "2023-08-01T00:00:00",
          "2023-09-01T00:00:00",
          "2023-10-01T00:00:00",
          "2023-11-01T00:00:00"
         ],
         "xaxis": "x",
         "y": [
          11080,
          12211,
          11693,
          11829,
          11078,
          11897,
          12175,
          11583,
          11033,
          11537,
          10447,
          12196,
          11669,
          12511,
          11988,
          12587,
          11459,
          12056,
          12995,
          11964,
          11684,
          11397,
          11145,
          11790,
          11772,
          12922,
          12617,
          12894,
          11867,
          12077,
          13148,
          12373,
          12045,
          12300,
          11615,
          13050,
          12631,
          13180,
          12587,
          13551,
          12078,
          13143,
          13752,
          13103,
          12528,
          12499,
          11846,
          8981,
          6099,
          8370,
          9467,
          10100,
          10340,
          10145,
          9363,
          9415,
          8298,
          7558,
          7445,
          9725,
          10886,
          11608,
          11892,
          11862,
          11243,
          11665,
          11809,
          11214,
          10237,
          10473,
          10362,
          12501,
          11096,
          12497,
          11941,
          11970,
          11838,
          12095,
          13069,
          12224,
          12702,
          11217,
          10996,
          12631,
          11750,
          13442,
          13156,
          12513,
          11706,
          12425,
          11724,
          10767
         ],
         "yaxis": "y"
        },
        {
         "hovertemplate": "LHB=Cwm Taf<br>Date_ItemName_ENG=%{x}<br>Data=%{y}<extra></extra>",
         "legendgroup": "Cwm Taf",
         "line": {
          "color": "#FFA15A",
          "dash": "solid"
         },
         "marker": {
          "symbol": "circle"
         },
         "mode": "lines",
         "name": "Cwm Taf",
         "orientation": "v",
         "showlegend": true,
         "type": "scatter",
         "x": [
          "2016-04-01T00:00:00",
          "2016-05-01T00:00:00",
          "2016-06-01T00:00:00",
          "2016-07-01T00:00:00",
          "2016-08-01T00:00:00",
          "2016-09-01T00:00:00",
          "2016-10-01T00:00:00",
          "2016-11-01T00:00:00",
          "2016-12-01T00:00:00",
          "2017-01-01T00:00:00",
          "2017-02-01T00:00:00",
          "2017-03-01T00:00:00",
          "2017-04-01T00:00:00",
          "2017-05-01T00:00:00",
          "2017-06-01T00:00:00",
          "2017-07-01T00:00:00",
          "2017-08-01T00:00:00",
          "2017-09-01T00:00:00",
          "2017-10-01T00:00:00",
          "2017-11-01T00:00:00",
          "2017-12-01T00:00:00",
          "2018-01-01T00:00:00",
          "2018-02-01T00:00:00",
          "2018-03-01T00:00:00",
          "2018-04-01T00:00:00",
          "2018-05-01T00:00:00",
          "2018-06-01T00:00:00",
          "2018-07-01T00:00:00",
          "2018-08-01T00:00:00",
          "2018-09-01T00:00:00",
          "2018-10-01T00:00:00",
          "2018-11-01T00:00:00",
          "2018-12-01T00:00:00",
          "2019-01-01T00:00:00",
          "2019-02-01T00:00:00",
          "2019-03-01T00:00:00"
         ],
         "xaxis": "x",
         "y": [
          10451,
          11499,
          11028,
          11001,
          10656,
          11094,
          11332,
          10806,
          10372,
          10741,
          9395,
          11305,
          11049,
          11578,
          11175,
          11821,
          11113,
          11140,
          11660,
          11054,
          10893,
          11049,
          10286,
          10751,
          10949,
          11821,
          11810,
          12413,
          10866,
          10967,
          11814,
          11210,
          10750,
          11180,
          10361,
          11493
         ],
         "yaxis": "y"
        },
        {
         "hovertemplate": "LHB=Hywel Dda<br>Date_ItemName_ENG=%{x}<br>Data=%{y}<extra></extra>",
         "legendgroup": "Hywel Dda",
         "line": {
          "color": "#19d3f3",
          "dash": "solid"
         },
         "marker": {
          "symbol": "circle"
         },
         "mode": "lines",
         "name": "Hywel Dda",
         "orientation": "v",
         "showlegend": true,
         "type": "scatter",
         "x": [
          "2016-04-01T00:00:00",
          "2016-05-01T00:00:00",
          "2016-06-01T00:00:00",
          "2016-07-01T00:00:00",
          "2016-08-01T00:00:00",
          "2016-09-01T00:00:00",
          "2016-10-01T00:00:00",
          "2016-11-01T00:00:00",
          "2016-12-01T00:00:00",
          "2017-01-01T00:00:00",
          "2017-02-01T00:00:00",
          "2017-03-01T00:00:00",
          "2017-04-01T00:00:00",
          "2017-05-01T00:00:00",
          "2017-06-01T00:00:00",
          "2017-07-01T00:00:00",
          "2017-08-01T00:00:00",
          "2017-09-01T00:00:00",
          "2017-10-01T00:00:00",
          "2017-11-01T00:00:00",
          "2017-12-01T00:00:00",
          "2018-01-01T00:00:00",
          "2018-02-01T00:00:00",
          "2018-03-01T00:00:00",
          "2018-04-01T00:00:00",
          "2018-05-01T00:00:00",
          "2018-06-01T00:00:00",
          "2018-07-01T00:00:00",
          "2018-08-01T00:00:00",
          "2018-09-01T00:00:00",
          "2018-10-01T00:00:00",
          "2018-11-01T00:00:00",
          "2018-12-01T00:00:00",
          "2019-01-01T00:00:00",
          "2019-02-01T00:00:00",
          "2019-03-01T00:00:00",
          "2019-04-01T00:00:00",
          "2019-05-01T00:00:00",
          "2019-06-01T00:00:00",
          "2019-07-01T00:00:00",
          "2019-08-01T00:00:00",
          "2019-09-01T00:00:00",
          "2019-10-01T00:00:00",
          "2019-11-01T00:00:00",
          "2019-12-01T00:00:00",
          "2020-01-01T00:00:00",
          "2020-02-01T00:00:00",
          "2020-03-01T00:00:00",
          "2020-04-01T00:00:00",
          "2020-05-01T00:00:00",
          "2020-06-01T00:00:00",
          "2020-07-01T00:00:00",
          "2020-08-01T00:00:00",
          "2020-09-01T00:00:00",
          "2020-10-01T00:00:00",
          "2020-11-01T00:00:00",
          "2020-12-01T00:00:00",
          "2021-01-01T00:00:00",
          "2021-02-01T00:00:00",
          "2021-03-01T00:00:00",
          "2021-04-01T00:00:00",
          "2021-05-01T00:00:00",
          "2021-06-01T00:00:00",
          "2021-07-01T00:00:00",
          "2021-08-01T00:00:00",
          "2021-09-01T00:00:00",
          "2021-10-01T00:00:00",
          "2021-11-01T00:00:00",
          "2021-12-01T00:00:00",
          "2022-01-01T00:00:00",
          "2022-02-01T00:00:00",
          "2022-03-01T00:00:00",
          "2022-04-01T00:00:00",
          "2022-05-01T00:00:00",
          "2022-06-01T00:00:00",
          "2022-07-01T00:00:00",
          "2022-08-01T00:00:00",
          "2022-09-01T00:00:00",
          "2022-10-01T00:00:00",
          "2022-11-01T00:00:00",
          "2022-12-01T00:00:00",
          "2023-01-01T00:00:00",
          "2023-02-01T00:00:00",
          "2023-03-01T00:00:00",
          "2023-04-01T00:00:00",
          "2023-05-01T00:00:00",
          "2023-06-01T00:00:00",
          "2023-07-01T00:00:00",
          "2023-08-01T00:00:00",
          "2023-09-01T00:00:00",
          "2023-10-01T00:00:00",
          "2023-11-01T00:00:00"
         ],
         "xaxis": "x",
         "y": [
          11566,
          13004,
          12033,
          12718,
          12609,
          11980,
          12251,
          10934,
          11002,
          11026,
          10329,
          12184,
          12169,
          13118,
          12473,
          13850,
          14146,
          12903,
          13444,
          12264,
          12731,
          12057,
          11239,
          12877,
          12900,
          14603,
          14049,
          15135,
          14377,
          13187,
          13291,
          12097,
          12289,
          12808,
          11908,
          13686,
          13708,
          14178,
          13127,
          15058,
          14732,
          13802,
          13309,
          12762,
          12407,
          12236,
          11341,
          9360,
          6044,
          8592,
          9533,
          11211,
          12810,
          11524,
          9874,
          9366,
          8298,
          7823,
          7974,
          10973,
          12631,
          13283,
          14490,
          15085,
          14601,
          13018,
          12742,
          12044,
          11352,
          11368,
          11011,
          13609,
          13477,
          14369,
          14029,
          14688,
          15097,
          13578,
          14281,
          13160,
          13815,
          12114,
          12027,
          13895,
          13917,
          15633,
          15526,
          15264,
          15473,
          14571,
          14750,
          13680
         ],
         "yaxis": "y"
        },
        {
         "hovertemplate": "LHB=Powys Teaching<br>Date_ItemName_ENG=%{x}<br>Data=%{y}<extra></extra>",
         "legendgroup": "Powys Teaching",
         "line": {
          "color": "#FF6692",
          "dash": "solid"
         },
         "marker": {
          "symbol": "circle"
         },
         "mode": "lines",
         "name": "Powys Teaching",
         "orientation": "v",
         "showlegend": true,
         "type": "scatter",
         "x": [
          "2016-04-01T00:00:00",
          "2016-05-01T00:00:00",
          "2016-06-01T00:00:00",
          "2016-07-01T00:00:00",
          "2016-08-01T00:00:00",
          "2016-09-01T00:00:00",
          "2016-10-01T00:00:00",
          "2016-11-01T00:00:00",
          "2016-12-01T00:00:00",
          "2017-01-01T00:00:00",
          "2017-02-01T00:00:00",
          "2017-03-01T00:00:00",
          "2017-04-01T00:00:00",
          "2017-05-01T00:00:00",
          "2017-06-01T00:00:00",
          "2017-07-01T00:00:00",
          "2017-08-01T00:00:00",
          "2017-09-01T00:00:00",
          "2017-10-01T00:00:00",
          "2017-11-01T00:00:00",
          "2017-12-01T00:00:00",
          "2018-01-01T00:00:00",
          "2018-02-01T00:00:00",
          "2018-03-01T00:00:00",
          "2018-04-01T00:00:00",
          "2018-05-01T00:00:00",
          "2018-06-01T00:00:00",
          "2018-07-01T00:00:00",
          "2018-08-01T00:00:00",
          "2018-09-01T00:00:00",
          "2018-10-01T00:00:00",
          "2018-11-01T00:00:00",
          "2018-12-01T00:00:00",
          "2019-01-01T00:00:00",
          "2019-02-01T00:00:00",
          "2019-03-01T00:00:00",
          "2019-04-01T00:00:00",
          "2019-05-01T00:00:00",
          "2019-06-01T00:00:00",
          "2019-07-01T00:00:00",
          "2019-08-01T00:00:00",
          "2019-09-01T00:00:00",
          "2019-10-01T00:00:00",
          "2019-11-01T00:00:00",
          "2019-12-01T00:00:00",
          "2020-01-01T00:00:00",
          "2020-02-01T00:00:00",
          "2020-03-01T00:00:00",
          "2020-04-01T00:00:00",
          "2020-05-01T00:00:00",
          "2020-06-01T00:00:00",
          "2020-07-01T00:00:00",
          "2020-08-01T00:00:00",
          "2020-09-01T00:00:00",
          "2020-10-01T00:00:00",
          "2020-11-01T00:00:00",
          "2020-12-01T00:00:00",
          "2021-01-01T00:00:00",
          "2021-02-01T00:00:00",
          "2021-03-01T00:00:00",
          "2021-04-01T00:00:00",
          "2021-05-01T00:00:00",
          "2021-06-01T00:00:00",
          "2021-07-01T00:00:00",
          "2021-08-01T00:00:00",
          "2021-09-01T00:00:00",
          "2021-10-01T00:00:00",
          "2021-11-01T00:00:00",
          "2021-12-01T00:00:00",
          "2022-01-01T00:00:00",
          "2022-02-01T00:00:00",
          "2022-03-01T00:00:00",
          "2022-04-01T00:00:00",
          "2022-05-01T00:00:00",
          "2022-06-01T00:00:00",
          "2022-07-01T00:00:00",
          "2022-08-01T00:00:00",
          "2022-09-01T00:00:00",
          "2022-10-01T00:00:00",
          "2022-11-01T00:00:00",
          "2022-12-01T00:00:00",
          "2023-01-01T00:00:00",
          "2023-02-01T00:00:00",
          "2023-03-01T00:00:00",
          "2023-04-01T00:00:00",
          "2023-05-01T00:00:00",
          "2023-06-01T00:00:00",
          "2023-07-01T00:00:00",
          "2023-08-01T00:00:00",
          "2023-09-01T00:00:00",
          "2023-10-01T00:00:00",
          "2023-11-01T00:00:00"
         ],
         "xaxis": "x",
         "y": [
          1567,
          1697,
          1706,
          1801,
          1711,
          1619,
          1507,
          1426,
          1337,
          1321,
          1341,
          1544,
          1648,
          1840,
          1759,
          1846,
          1807,
          1633,
          1624,
          1427,
          1315,
          1405,
          1374,
          1419,
          1536,
          1888,
          2058,
          1993,
          1701,
          1593,
          1644,
          1445,
          1438,
          1362,
          1411,
          1581,
          1626,
          1795,
          1656,
          2078,
          1749,
          1799,
          1541,
          1389,
          1370,
          1391,
          1328,
          982,
          531,
          717,
          829,
          911,
          930,
          921,
          714,
          757,
          595,
          478,
          588,
          794,
          943,
          947,
          1285,
          1384,
          1115,
          1146,
          1027,
          974,
          836,
          879,
          829,
          1137,
          1166,
          1272,
          1304,
          1365,
          1369,
          1167,
          1191,
          1052,
          913,
          978,
          1078,
          1134,
          1061,
          1298,
          1547,
          1325,
          1287,
          1330,
          1201,
          1059
         ],
         "yaxis": "y"
        },
        {
         "hovertemplate": "LHB=Swansea Bay<br>Date_ItemName_ENG=%{x}<br>Data=%{y}<extra></extra>",
         "legendgroup": "Swansea Bay",
         "line": {
          "color": "#B6E880",
          "dash": "solid"
         },
         "marker": {
          "symbol": "circle"
         },
         "mode": "lines",
         "name": "Swansea Bay",
         "orientation": "v",
         "showlegend": true,
         "type": "scatter",
         "x": [
          "2019-04-01T00:00:00",
          "2019-05-01T00:00:00",
          "2019-06-01T00:00:00",
          "2019-07-01T00:00:00",
          "2019-08-01T00:00:00",
          "2019-09-01T00:00:00",
          "2019-10-01T00:00:00",
          "2019-11-01T00:00:00",
          "2019-12-01T00:00:00",
          "2020-01-01T00:00:00",
          "2020-02-01T00:00:00",
          "2020-03-01T00:00:00",
          "2020-04-01T00:00:00",
          "2020-05-01T00:00:00",
          "2020-06-01T00:00:00",
          "2020-07-01T00:00:00",
          "2020-08-01T00:00:00",
          "2020-09-01T00:00:00",
          "2020-10-01T00:00:00",
          "2020-11-01T00:00:00",
          "2020-12-01T00:00:00",
          "2021-01-01T00:00:00",
          "2021-02-01T00:00:00",
          "2021-03-01T00:00:00",
          "2021-04-01T00:00:00",
          "2021-05-01T00:00:00",
          "2021-06-01T00:00:00",
          "2021-07-01T00:00:00",
          "2021-08-01T00:00:00",
          "2021-09-01T00:00:00",
          "2021-10-01T00:00:00",
          "2021-11-01T00:00:00",
          "2021-12-01T00:00:00",
          "2022-01-01T00:00:00",
          "2022-02-01T00:00:00",
          "2022-03-01T00:00:00",
          "2022-04-01T00:00:00",
          "2022-05-01T00:00:00",
          "2022-06-01T00:00:00",
          "2022-07-01T00:00:00",
          "2022-08-01T00:00:00",
          "2022-09-01T00:00:00",
          "2022-10-01T00:00:00",
          "2022-11-01T00:00:00",
          "2022-12-01T00:00:00",
          "2023-01-01T00:00:00",
          "2023-02-01T00:00:00",
          "2023-03-01T00:00:00",
          "2023-04-01T00:00:00",
          "2023-05-01T00:00:00",
          "2023-06-01T00:00:00",
          "2023-07-01T00:00:00",
          "2023-08-01T00:00:00",
          "2023-09-01T00:00:00",
          "2023-10-01T00:00:00",
          "2023-11-01T00:00:00"
         ],
         "xaxis": "x",
         "y": [
          10728,
          10906,
          10334,
          11690,
          10795,
          10960,
          10841,
          10156,
          9815,
          9960,
          9142,
          7487,
          5270,
          7756,
          8534,
          9106,
          9672,
          9319,
          7909,
          7917,
          7015,
          6560,
          6653,
          8840,
          10354,
          10775,
          11584,
          11461,
          11036,
          11193,
          10743,
          10128,
          9113,
          9097,
          9270,
          11074,
          10758,
          11235,
          10654,
          10896,
          10737,
          10328,
          11032,
          9774,
          10189,
          9363,
          9698,
          11216,
          10568,
          12182,
          12043,
          11261,
          10930,
          11212,
          11598,
          10410
         ],
         "yaxis": "y"
        },
        {
         "hovertemplate": "LHB=Cwm Taf Morgannwg<br>Date_ItemName_ENG=%{x}<br>Data=%{y}<extra></extra>",
         "legendgroup": "Cwm Taf Morgannwg",
         "line": {
          "color": "#FF97FF",
          "dash": "solid"
         },
         "marker": {
          "symbol": "circle"
         },
         "mode": "lines",
         "name": "Cwm Taf Morgannwg",
         "orientation": "v",
         "showlegend": true,
         "type": "scatter",
         "x": [
          "2019-04-01T00:00:00",
          "2019-05-01T00:00:00",
          "2019-06-01T00:00:00",
          "2019-07-01T00:00:00",
          "2019-08-01T00:00:00",
          "2019-09-01T00:00:00",
          "2019-10-01T00:00:00",
          "2019-11-01T00:00:00",
          "2019-12-01T00:00:00",
          "2020-01-01T00:00:00",
          "2020-02-01T00:00:00",
          "2020-03-01T00:00:00",
          "2020-04-01T00:00:00",
          "2020-05-01T00:00:00",
          "2020-06-01T00:00:00",
          "2020-07-01T00:00:00",
          "2020-08-01T00:00:00",
          "2020-09-01T00:00:00",
          "2020-10-01T00:00:00",
          "2020-11-01T00:00:00",
          "2020-12-01T00:00:00",
          "2021-01-01T00:00:00",
          "2021-02-01T00:00:00",
          "2021-03-01T00:00:00",
          "2021-04-01T00:00:00",
          "2021-05-01T00:00:00",
          "2021-06-01T00:00:00",
          "2021-07-01T00:00:00",
          "2021-08-01T00:00:00",
          "2021-09-01T00:00:00",
          "2021-10-01T00:00:00",
          "2021-11-01T00:00:00",
          "2021-12-01T00:00:00",
          "2022-01-01T00:00:00",
          "2022-02-01T00:00:00",
          "2022-03-01T00:00:00",
          "2022-04-01T00:00:00",
          "2022-05-01T00:00:00",
          "2022-06-01T00:00:00",
          "2022-07-01T00:00:00",
          "2022-08-01T00:00:00",
          "2022-09-01T00:00:00",
          "2022-10-01T00:00:00",
          "2022-11-01T00:00:00",
          "2022-12-01T00:00:00",
          "2023-01-01T00:00:00",
          "2023-02-01T00:00:00",
          "2023-03-01T00:00:00",
          "2023-04-01T00:00:00",
          "2023-05-01T00:00:00",
          "2023-06-01T00:00:00",
          "2023-07-01T00:00:00",
          "2023-08-01T00:00:00",
          "2023-09-01T00:00:00",
          "2023-10-01T00:00:00",
          "2023-11-01T00:00:00"
         ],
         "xaxis": "x",
         "y": [
          16647,
          16681,
          15863,
          17679,
          16110,
          16746,
          16747,
          15896,
          15668,
          15526,
          13999,
          11477,
          8078,
          11593,
          12791,
          14150,
          14856,
          13716,
          11241,
          11383,
          11016,
          10197,
          10383,
          13770,
          15526,
          16154,
          17169,
          16722,
          15679,
          15650,
          15353,
          14258,
          13464,
          13788,
          13135,
          15672,
          14289,
          15441,
          15149,
          15553,
          14858,
          14716,
          15830,
          15224,
          15828,
          13883,
          13722,
          15842,
          15502,
          17532,
          16674,
          16794,
          16062,
          16127,
          16643,
          15297
         ],
         "yaxis": "y"
        }
       ],
       "layout": {
        "legend": {
         "title": {
          "text": "LHB"
         },
         "tracegroupgap": 0
        },
        "margin": {
         "t": 60
        },
        "template": {
         "data": {
          "bar": [
           {
            "error_x": {
             "color": "#2a3f5f"
            },
            "error_y": {
             "color": "#2a3f5f"
            },
            "marker": {
             "line": {
              "color": "#E5ECF6",
              "width": 0.5
             },
             "pattern": {
              "fillmode": "overlay",
              "size": 10,
              "solidity": 0.2
             }
            },
            "type": "bar"
           }
          ],
          "barpolar": [
           {
            "marker": {
             "line": {
              "color": "#E5ECF6",
              "width": 0.5
             },
             "pattern": {
              "fillmode": "overlay",
              "size": 10,
              "solidity": 0.2
             }
            },
            "type": "barpolar"
           }
          ],
          "carpet": [
           {
            "aaxis": {
             "endlinecolor": "#2a3f5f",
             "gridcolor": "white",
             "linecolor": "white",
             "minorgridcolor": "white",
             "startlinecolor": "#2a3f5f"
            },
            "baxis": {
             "endlinecolor": "#2a3f5f",
             "gridcolor": "white",
             "linecolor": "white",
             "minorgridcolor": "white",
             "startlinecolor": "#2a3f5f"
            },
            "type": "carpet"
           }
          ],
          "choropleth": [
           {
            "colorbar": {
             "outlinewidth": 0,
             "ticks": ""
            },
            "type": "choropleth"
           }
          ],
          "contour": [
           {
            "colorbar": {
             "outlinewidth": 0,
             "ticks": ""
            },
            "colorscale": [
             [
              0,
              "#0d0887"
             ],
             [
              0.1111111111111111,
              "#46039f"
             ],
             [
              0.2222222222222222,
              "#7201a8"
             ],
             [
              0.3333333333333333,
              "#9c179e"
             ],
             [
              0.4444444444444444,
              "#bd3786"
             ],
             [
              0.5555555555555556,
              "#d8576b"
             ],
             [
              0.6666666666666666,
              "#ed7953"
             ],
             [
              0.7777777777777778,
              "#fb9f3a"
             ],
             [
              0.8888888888888888,
              "#fdca26"
             ],
             [
              1,
              "#f0f921"
             ]
            ],
            "type": "contour"
           }
          ],
          "contourcarpet": [
           {
            "colorbar": {
             "outlinewidth": 0,
             "ticks": ""
            },
            "type": "contourcarpet"
           }
          ],
          "heatmap": [
           {
            "colorbar": {
             "outlinewidth": 0,
             "ticks": ""
            },
            "colorscale": [
             [
              0,
              "#0d0887"
             ],
             [
              0.1111111111111111,
              "#46039f"
             ],
             [
              0.2222222222222222,
              "#7201a8"
             ],
             [
              0.3333333333333333,
              "#9c179e"
             ],
             [
              0.4444444444444444,
              "#bd3786"
             ],
             [
              0.5555555555555556,
              "#d8576b"
             ],
             [
              0.6666666666666666,
              "#ed7953"
             ],
             [
              0.7777777777777778,
              "#fb9f3a"
             ],
             [
              0.8888888888888888,
              "#fdca26"
             ],
             [
              1,
              "#f0f921"
             ]
            ],
            "type": "heatmap"
           }
          ],
          "heatmapgl": [
           {
            "colorbar": {
             "outlinewidth": 0,
             "ticks": ""
            },
            "colorscale": [
             [
              0,
              "#0d0887"
             ],
             [
              0.1111111111111111,
              "#46039f"
             ],
             [
              0.2222222222222222,
              "#7201a8"
             ],
             [
              0.3333333333333333,
              "#9c179e"
             ],
             [
              0.4444444444444444,
              "#bd3786"
             ],
             [
              0.5555555555555556,
              "#d8576b"
             ],
             [
              0.6666666666666666,
              "#ed7953"
             ],
             [
              0.7777777777777778,
              "#fb9f3a"
             ],
             [
              0.8888888888888888,
              "#fdca26"
             ],
             [
              1,
              "#f0f921"
             ]
            ],
            "type": "heatmapgl"
           }
          ],
          "histogram": [
           {
            "marker": {
             "pattern": {
              "fillmode": "overlay",
              "size": 10,
              "solidity": 0.2
             }
            },
            "type": "histogram"
           }
          ],
          "histogram2d": [
           {
            "colorbar": {
             "outlinewidth": 0,
             "ticks": ""
            },
            "colorscale": [
             [
              0,
              "#0d0887"
             ],
             [
              0.1111111111111111,
              "#46039f"
             ],
             [
              0.2222222222222222,
              "#7201a8"
             ],
             [
              0.3333333333333333,
              "#9c179e"
             ],
             [
              0.4444444444444444,
              "#bd3786"
             ],
             [
              0.5555555555555556,
              "#d8576b"
             ],
             [
              0.6666666666666666,
              "#ed7953"
             ],
             [
              0.7777777777777778,
              "#fb9f3a"
             ],
             [
              0.8888888888888888,
              "#fdca26"
             ],
             [
              1,
              "#f0f921"
             ]
            ],
            "type": "histogram2d"
           }
          ],
          "histogram2dcontour": [
           {
            "colorbar": {
             "outlinewidth": 0,
             "ticks": ""
            },
            "colorscale": [
             [
              0,
              "#0d0887"
             ],
             [
              0.1111111111111111,
              "#46039f"
             ],
             [
              0.2222222222222222,
              "#7201a8"
             ],
             [
              0.3333333333333333,
              "#9c179e"
             ],
             [
              0.4444444444444444,
              "#bd3786"
             ],
             [
              0.5555555555555556,
              "#d8576b"
             ],
             [
              0.6666666666666666,
              "#ed7953"
             ],
             [
              0.7777777777777778,
              "#fb9f3a"
             ],
             [
              0.8888888888888888,
              "#fdca26"
             ],
             [
              1,
              "#f0f921"
             ]
            ],
            "type": "histogram2dcontour"
           }
          ],
          "mesh3d": [
           {
            "colorbar": {
             "outlinewidth": 0,
             "ticks": ""
            },
            "type": "mesh3d"
           }
          ],
          "parcoords": [
           {
            "line": {
             "colorbar": {
              "outlinewidth": 0,
              "ticks": ""
             }
            },
            "type": "parcoords"
           }
          ],
          "pie": [
           {
            "automargin": true,
            "type": "pie"
           }
          ],
          "scatter": [
           {
            "fillpattern": {
             "fillmode": "overlay",
             "size": 10,
             "solidity": 0.2
            },
            "type": "scatter"
           }
          ],
          "scatter3d": [
           {
            "line": {
             "colorbar": {
              "outlinewidth": 0,
              "ticks": ""
             }
            },
            "marker": {
             "colorbar": {
              "outlinewidth": 0,
              "ticks": ""
             }
            },
            "type": "scatter3d"
           }
          ],
          "scattercarpet": [
           {
            "marker": {
             "colorbar": {
              "outlinewidth": 0,
              "ticks": ""
             }
            },
            "type": "scattercarpet"
           }
          ],
          "scattergeo": [
           {
            "marker": {
             "colorbar": {
              "outlinewidth": 0,
              "ticks": ""
             }
            },
            "type": "scattergeo"
           }
          ],
          "scattergl": [
           {
            "marker": {
             "colorbar": {
              "outlinewidth": 0,
              "ticks": ""
             }
            },
            "type": "scattergl"
           }
          ],
          "scattermapbox": [
           {
            "marker": {
             "colorbar": {
              "outlinewidth": 0,
              "ticks": ""
             }
            },
            "type": "scattermapbox"
           }
          ],
          "scatterpolar": [
           {
            "marker": {
             "colorbar": {
              "outlinewidth": 0,
              "ticks": ""
             }
            },
            "type": "scatterpolar"
           }
          ],
          "scatterpolargl": [
           {
            "marker": {
             "colorbar": {
              "outlinewidth": 0,
              "ticks": ""
             }
            },
            "type": "scatterpolargl"
           }
          ],
          "scatterternary": [
           {
            "marker": {
             "colorbar": {
              "outlinewidth": 0,
              "ticks": ""
             }
            },
            "type": "scatterternary"
           }
          ],
          "surface": [
           {
            "colorbar": {
             "outlinewidth": 0,
             "ticks": ""
            },
            "colorscale": [
             [
              0,
              "#0d0887"
             ],
             [
              0.1111111111111111,
              "#46039f"
             ],
             [
              0.2222222222222222,
              "#7201a8"
             ],
             [
              0.3333333333333333,
              "#9c179e"
             ],
             [
              0.4444444444444444,
              "#bd3786"
             ],
             [
              0.5555555555555556,
              "#d8576b"
             ],
             [
              0.6666666666666666,
              "#ed7953"
             ],
             [
              0.7777777777777778,
              "#fb9f3a"
             ],
             [
              0.8888888888888888,
              "#fdca26"
             ],
             [
              1,
              "#f0f921"
             ]
            ],
            "type": "surface"
           }
          ],
          "table": [
           {
            "cells": {
             "fill": {
              "color": "#EBF0F8"
             },
             "line": {
              "color": "white"
             }
            },
            "header": {
             "fill": {
              "color": "#C8D4E3"
             },
             "line": {
              "color": "white"
             }
            },
            "type": "table"
           }
          ]
         },
         "layout": {
          "annotationdefaults": {
           "arrowcolor": "#2a3f5f",
           "arrowhead": 0,
           "arrowwidth": 1
          },
          "autotypenumbers": "strict",
          "coloraxis": {
           "colorbar": {
            "outlinewidth": 0,
            "ticks": ""
           }
          },
          "colorscale": {
           "diverging": [
            [
             0,
             "#8e0152"
            ],
            [
             0.1,
             "#c51b7d"
            ],
            [
             0.2,
             "#de77ae"
            ],
            [
             0.3,
             "#f1b6da"
            ],
            [
             0.4,
             "#fde0ef"
            ],
            [
             0.5,
             "#f7f7f7"
            ],
            [
             0.6,
             "#e6f5d0"
            ],
            [
             0.7,
             "#b8e186"
            ],
            [
             0.8,
             "#7fbc41"
            ],
            [
             0.9,
             "#4d9221"
            ],
            [
             1,
             "#276419"
            ]
           ],
           "sequential": [
            [
             0,
             "#0d0887"
            ],
            [
             0.1111111111111111,
             "#46039f"
            ],
            [
             0.2222222222222222,
             "#7201a8"
            ],
            [
             0.3333333333333333,
             "#9c179e"
            ],
            [
             0.4444444444444444,
             "#bd3786"
            ],
            [
             0.5555555555555556,
             "#d8576b"
            ],
            [
             0.6666666666666666,
             "#ed7953"
            ],
            [
             0.7777777777777778,
             "#fb9f3a"
            ],
            [
             0.8888888888888888,
             "#fdca26"
            ],
            [
             1,
             "#f0f921"
            ]
           ],
           "sequentialminus": [
            [
             0,
             "#0d0887"
            ],
            [
             0.1111111111111111,
             "#46039f"
            ],
            [
             0.2222222222222222,
             "#7201a8"
            ],
            [
             0.3333333333333333,
             "#9c179e"
            ],
            [
             0.4444444444444444,
             "#bd3786"
            ],
            [
             0.5555555555555556,
             "#d8576b"
            ],
            [
             0.6666666666666666,
             "#ed7953"
            ],
            [
             0.7777777777777778,
             "#fb9f3a"
            ],
            [
             0.8888888888888888,
             "#fdca26"
            ],
            [
             1,
             "#f0f921"
            ]
           ]
          },
          "colorway": [
           "#636efa",
           "#EF553B",
           "#00cc96",
           "#ab63fa",
           "#FFA15A",
           "#19d3f3",
           "#FF6692",
           "#B6E880",
           "#FF97FF",
           "#FECB52"
          ],
          "font": {
           "color": "#2a3f5f"
          },
          "geo": {
           "bgcolor": "white",
           "lakecolor": "white",
           "landcolor": "#E5ECF6",
           "showlakes": true,
           "showland": true,
           "subunitcolor": "white"
          },
          "hoverlabel": {
           "align": "left"
          },
          "hovermode": "closest",
          "mapbox": {
           "style": "light"
          },
          "paper_bgcolor": "white",
          "plot_bgcolor": "#E5ECF6",
          "polar": {
           "angularaxis": {
            "gridcolor": "white",
            "linecolor": "white",
            "ticks": ""
           },
           "bgcolor": "#E5ECF6",
           "radialaxis": {
            "gridcolor": "white",
            "linecolor": "white",
            "ticks": ""
           }
          },
          "scene": {
           "xaxis": {
            "backgroundcolor": "#E5ECF6",
            "gridcolor": "white",
            "gridwidth": 2,
            "linecolor": "white",
            "showbackground": true,
            "ticks": "",
            "zerolinecolor": "white"
           },
           "yaxis": {
            "backgroundcolor": "#E5ECF6",
            "gridcolor": "white",
            "gridwidth": 2,
            "linecolor": "white",
            "showbackground": true,
            "ticks": "",
            "zerolinecolor": "white"
           },
           "zaxis": {
            "backgroundcolor": "#E5ECF6",
            "gridcolor": "white",
            "gridwidth": 2,
            "linecolor": "white",
            "showbackground": true,
            "ticks": "",
            "zerolinecolor": "white"
           }
          },
          "shapedefaults": {
           "line": {
            "color": "#2a3f5f"
           }
          },
          "ternary": {
           "aaxis": {
            "gridcolor": "white",
            "linecolor": "white",
            "ticks": ""
           },
           "baxis": {
            "gridcolor": "white",
            "linecolor": "white",
            "ticks": ""
           },
           "bgcolor": "#E5ECF6",
           "caxis": {
            "gridcolor": "white",
            "linecolor": "white",
            "ticks": ""
           }
          },
          "title": {
           "x": 0.05
          },
          "xaxis": {
           "automargin": true,
           "gridcolor": "white",
           "linecolor": "white",
           "ticks": "",
           "title": {
            "standoff": 15
           },
           "zerolinecolor": "white",
           "zerolinewidth": 2
          },
          "yaxis": {
           "automargin": true,
           "gridcolor": "white",
           "linecolor": "white",
           "ticks": "",
           "title": {
            "standoff": 15
           },
           "zerolinecolor": "white",
           "zerolinewidth": 2
          }
         }
        },
        "title": {
         "text": "ED attendances by Local Health Board"
        },
        "xaxis": {
         "anchor": "y",
         "domain": [
          0,
          1
         ],
         "title": {
          "text": "Month-Year"
         }
        },
        "yaxis": {
         "anchor": "x",
         "domain": [
          0,
          1
         ],
         "title": {
          "text": "Monthly ED attendances"
         }
        }
       }
      }
     },
     "metadata": {},
     "output_type": "display_data"
    },
    {
     "data": {
      "image/png": "[encoded data removed]",
      "text/plain": [
       "<Figure size 640x480 with 1 Axes>"
      ]
     },
     "metadata": {},
     "output_type": "display_data"
    }
   ],
   "source": [
    "\n",
    "## aggregate the data by year\n",
    "ED_wales_data_cln_LHB = ED_wales_data_cln.groupby(['Date_ItemName_ENG','LHB'])['Data'].sum().reset_index()\n",
    "\n",
    "## create the interactive time plot\n",
    "fig = px.line(\n",
    "    ED_wales_data_cln_LHB.sort_values(by='Date_ItemName_ENG'),\n",
    "    x='Date_ItemName_ENG', \n",
    "    y='Data',\n",
    "    color= 'LHB')\n",
    "fig.update_layout(\n",
    "    title=\"ED attendances by Local Health Board\", \n",
    "    xaxis_title=\"Month-Year\", \n",
    "    yaxis_title=\"Monthly ED attendances\")\n",
    "fig.show()\n",
    "\n",
    "## create the static plot\n",
    "sns.lineplot(\n",
    "    x=\"Date_ItemName_ENG\", \n",
    "    y=\"Data\", \n",
    "    hue = \"LHB\",\n",
    "    data=ED_wales_data_cln_LHB).set(\n",
    "        title=\"ED attendances by Local Health Board\", \n",
    "        xlabel=\"Month-Year\", \n",
    "        ylabel=\"Monthly ED attendances\")\n",
    "\n",
    "plt.legend(bbox_to_anchor=(1.05, 1), loc=\"upper left\")\n",
    "plt.show()"
   ]
  },
  {
   "cell_type": "markdown",
   "metadata": {},
   "source": [
    "In order to handle time series data I will use a specialised python library, [**`pytimeTK`**](https://business-science.github.io/pytimetk/guides/01_visualization.html)"
   ]
  },
  {
   "cell_type": "markdown",
   "metadata": {},
   "source": [
    "In order to handle time series data I will use a specialised python library, [**`pytimeTK`**](https://business-science.github.io/pytimetk/guides/01_visualization.html)"
   ]
  },
  {
   "cell_type": "code",
   "execution_count": 40,
   "metadata": {},
   "outputs": [
    {
     "name": "stderr",
     "output_type": "stream",
     "text": [
      "/Users/aurafrizzati/anaconda3/envs/swansea_python2/lib/python3.12/site-packages/seaborn/_oldcore.py:1119: FutureWarning: use_inf_as_na option is deprecated and will be removed in a future version. Convert inf values to NaN before operating instead.\n",
      "  with pd.option_context('mode.use_inf_as_na', True):\n",
      "/Users/aurafrizzati/anaconda3/envs/swansea_python2/lib/python3.12/site-packages/seaborn/_oldcore.py:1119: FutureWarning: use_inf_as_na option is deprecated and will be removed in a future version. Convert inf values to NaN before operating instead.\n",
      "  with pd.option_context('mode.use_inf_as_na', True):\n"
     ]
    },
    {
     "data": {
      "image/png": "[encoded data removed]",
      "text/plain": [
       "<Figure size 1600x400 with 1 Axes>"
      ]
     },
     "metadata": {},
     "output_type": "display_data"
    }
   ],
   "source": [
    "from sktime.utils.plotting import plot_series\n",
    "from sktime.datasets import load_airline\n",
    "y = load_airline()\n",
    "fig, ax = plot_series(y) "
   ]
  },
  {
   "cell_type": "markdown",
   "metadata": {},
   "source": [
    "## **5. Forecasting**"
   ]
  },
  {
   "cell_type": "markdown",
   "metadata": {},
   "source": [
    "## **6. Anomaly identification**"
   ]
  },
  {
   "cell_type": "code",
   "execution_count": null,
   "metadata": {},
   "outputs": [],
   "source": []
  },
  {
   "cell_type": "code",
   "execution_count": null,
   "metadata": {},
   "outputs": [],
   "source": []
  }
 ],
 "metadata": {
  "kernelspec": {
   "display_name": "swansea_python2",
   "language": "python",
   "name": "python3"
  },
  "language_info": {
   "codemirror_mode": {
    "name": "ipython",
    "version": 3
   },
   "file_extension": ".py",
   "mimetype": "text/x-python",
   "name": "python",
   "nbconvert_exporter": "python",
   "pygments_lexer": "ipython3",
   "version": "3.12.0"
  }
 },
 "nbformat": 4,
 "nbformat_minor": 2
}
